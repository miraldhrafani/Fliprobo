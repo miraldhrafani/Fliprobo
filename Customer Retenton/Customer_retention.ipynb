{
 "cells": [
  {
   "cell_type": "code",
   "execution_count": 1,
   "id": "03384aa1",
   "metadata": {},
   "outputs": [],
   "source": [
    "import pandas as pd\n",
    "import numpy as np\n",
    "import seaborn as sns\n",
    "import matplotlib.pyplot as plt\n",
    "%matplotlib inline\n",
    "\n",
    "\n",
    "import warnings\n",
    "warnings.filterwarnings('ignore')"
   ]
  },
  {
   "cell_type": "code",
   "execution_count": 70,
   "id": "705b0625",
   "metadata": {},
   "outputs": [
    {
     "data": {
      "text/html": [
       "<div>\n",
       "<style scoped>\n",
       "    .dataframe tbody tr th:only-of-type {\n",
       "        vertical-align: middle;\n",
       "    }\n",
       "\n",
       "    .dataframe tbody tr th {\n",
       "        vertical-align: top;\n",
       "    }\n",
       "\n",
       "    .dataframe thead th {\n",
       "        text-align: right;\n",
       "    }\n",
       "</style>\n",
       "<table border=\"1\" class=\"dataframe\">\n",
       "  <thead>\n",
       "    <tr style=\"text-align: right;\">\n",
       "      <th></th>\n",
       "      <th>1Gender of respondent</th>\n",
       "      <th>2 How old are you?</th>\n",
       "      <th>3 Which city do you shop online from?</th>\n",
       "      <th>4 What is the Pin Code of where you shop online from?</th>\n",
       "      <th>5 Since How Long You are Shopping Online ?</th>\n",
       "      <th>6 How many times you have made an online purchase in the past 1 year?</th>\n",
       "      <th>7 How do you access the internet while shopping on-line?</th>\n",
       "      <th>8 Which device do you use to access the online shopping?</th>\n",
       "      <th>9 What is the screen size of your mobile device?\\t\\t\\t\\t\\t\\t</th>\n",
       "      <th>10 What is the operating system (OS) of your device?\\t\\t\\t\\t</th>\n",
       "      <th>...</th>\n",
       "      <th>Longer time to get logged in (promotion, sales period)</th>\n",
       "      <th>Longer time in displaying graphics and photos (promotion, sales period)</th>\n",
       "      <th>Late declaration of price (promotion, sales period)</th>\n",
       "      <th>Longer page loading time (promotion, sales period)</th>\n",
       "      <th>Limited mode of payment on most products (promotion, sales period)</th>\n",
       "      <th>Longer delivery period</th>\n",
       "      <th>Change in website/Application design</th>\n",
       "      <th>Frequent disruption when moving from one page to another</th>\n",
       "      <th>Website is as efficient as before</th>\n",
       "      <th>Which of the Indian online retailer would you recommend to a friend?</th>\n",
       "    </tr>\n",
       "  </thead>\n",
       "  <tbody>\n",
       "    <tr>\n",
       "      <th>0</th>\n",
       "      <td>Male</td>\n",
       "      <td>31-40 years</td>\n",
       "      <td>Delhi</td>\n",
       "      <td>110009</td>\n",
       "      <td>Above 4 years</td>\n",
       "      <td>31-40 times</td>\n",
       "      <td>Dial-up</td>\n",
       "      <td>Desktop</td>\n",
       "      <td>Others</td>\n",
       "      <td>Window/windows Mobile</td>\n",
       "      <td>...</td>\n",
       "      <td>Amazon.in</td>\n",
       "      <td>Amazon.in</td>\n",
       "      <td>Flipkart.com</td>\n",
       "      <td>Flipkart.com</td>\n",
       "      <td>Amazon.in</td>\n",
       "      <td>Paytm.com</td>\n",
       "      <td>Flipkart.com</td>\n",
       "      <td>Amazon.in</td>\n",
       "      <td>Amazon.in</td>\n",
       "      <td>Flipkart.com</td>\n",
       "    </tr>\n",
       "    <tr>\n",
       "      <th>1</th>\n",
       "      <td>Female</td>\n",
       "      <td>21-30 years</td>\n",
       "      <td>Delhi</td>\n",
       "      <td>110030</td>\n",
       "      <td>Above 4 years</td>\n",
       "      <td>41 times and above</td>\n",
       "      <td>Wi-Fi</td>\n",
       "      <td>Smartphone</td>\n",
       "      <td>4.7 inches</td>\n",
       "      <td>IOS/Mac</td>\n",
       "      <td>...</td>\n",
       "      <td>Amazon.in, Flipkart.com</td>\n",
       "      <td>Myntra.com</td>\n",
       "      <td>snapdeal.com</td>\n",
       "      <td>Snapdeal.com</td>\n",
       "      <td>Snapdeal.com</td>\n",
       "      <td>Snapdeal.com</td>\n",
       "      <td>Amazon.in</td>\n",
       "      <td>Myntra.com</td>\n",
       "      <td>Amazon.in, Flipkart.com</td>\n",
       "      <td>Amazon.in, Myntra.com</td>\n",
       "    </tr>\n",
       "    <tr>\n",
       "      <th>2</th>\n",
       "      <td>Female</td>\n",
       "      <td>21-30 years</td>\n",
       "      <td>Greater Noida</td>\n",
       "      <td>201308</td>\n",
       "      <td>3-4 years</td>\n",
       "      <td>41 times and above</td>\n",
       "      <td>Mobile Internet</td>\n",
       "      <td>Smartphone</td>\n",
       "      <td>5.5 inches</td>\n",
       "      <td>Android</td>\n",
       "      <td>...</td>\n",
       "      <td>Myntra.com</td>\n",
       "      <td>Myntra.com</td>\n",
       "      <td>Myntra.com</td>\n",
       "      <td>Myntra.com</td>\n",
       "      <td>Amazon.in</td>\n",
       "      <td>Paytm.com</td>\n",
       "      <td>Paytm.com</td>\n",
       "      <td>Paytm.com</td>\n",
       "      <td>Amazon.in</td>\n",
       "      <td>Amazon.in, Paytm.com, Myntra.com</td>\n",
       "    </tr>\n",
       "    <tr>\n",
       "      <th>3</th>\n",
       "      <td>Male</td>\n",
       "      <td>21-30 years</td>\n",
       "      <td>Karnal</td>\n",
       "      <td>132001</td>\n",
       "      <td>3-4 years</td>\n",
       "      <td>Less than 10 times</td>\n",
       "      <td>Mobile Internet</td>\n",
       "      <td>Smartphone</td>\n",
       "      <td>5.5 inches</td>\n",
       "      <td>IOS/Mac</td>\n",
       "      <td>...</td>\n",
       "      <td>Snapdeal.com</td>\n",
       "      <td>Myntra.com, Snapdeal.com</td>\n",
       "      <td>Myntra.com</td>\n",
       "      <td>Paytm.com</td>\n",
       "      <td>Paytm.com</td>\n",
       "      <td>Paytm.com</td>\n",
       "      <td>Amazon.in, Flipkart.com</td>\n",
       "      <td>Amazon.in, Flipkart.com</td>\n",
       "      <td>Amazon.in, Flipkart.com, Paytm.com</td>\n",
       "      <td>Amazon.in, Flipkart.com</td>\n",
       "    </tr>\n",
       "    <tr>\n",
       "      <th>4</th>\n",
       "      <td>Female</td>\n",
       "      <td>21-30 years</td>\n",
       "      <td>Bangalore</td>\n",
       "      <td>530068</td>\n",
       "      <td>2-3 years</td>\n",
       "      <td>11-20 times</td>\n",
       "      <td>Wi-Fi</td>\n",
       "      <td>Smartphone</td>\n",
       "      <td>4.7 inches</td>\n",
       "      <td>IOS/Mac</td>\n",
       "      <td>...</td>\n",
       "      <td>Flipkart.com, Paytm.com</td>\n",
       "      <td>Paytm.com</td>\n",
       "      <td>Paytm.com</td>\n",
       "      <td>Paytm.com</td>\n",
       "      <td>Snapdeal.com</td>\n",
       "      <td>Paytm.com</td>\n",
       "      <td>Amazon.in</td>\n",
       "      <td>Snapdeal.com</td>\n",
       "      <td>Paytm.com</td>\n",
       "      <td>Amazon.in, Myntra.com</td>\n",
       "    </tr>\n",
       "    <tr>\n",
       "      <th>...</th>\n",
       "      <td>...</td>\n",
       "      <td>...</td>\n",
       "      <td>...</td>\n",
       "      <td>...</td>\n",
       "      <td>...</td>\n",
       "      <td>...</td>\n",
       "      <td>...</td>\n",
       "      <td>...</td>\n",
       "      <td>...</td>\n",
       "      <td>...</td>\n",
       "      <td>...</td>\n",
       "      <td>...</td>\n",
       "      <td>...</td>\n",
       "      <td>...</td>\n",
       "      <td>...</td>\n",
       "      <td>...</td>\n",
       "      <td>...</td>\n",
       "      <td>...</td>\n",
       "      <td>...</td>\n",
       "      <td>...</td>\n",
       "      <td>...</td>\n",
       "    </tr>\n",
       "    <tr>\n",
       "      <th>264</th>\n",
       "      <td>Female</td>\n",
       "      <td>21-30 years</td>\n",
       "      <td>Solan</td>\n",
       "      <td>173212</td>\n",
       "      <td>1-2 years</td>\n",
       "      <td>Less than 10 times</td>\n",
       "      <td>Mobile Internet</td>\n",
       "      <td>Smartphone</td>\n",
       "      <td>5.5 inches</td>\n",
       "      <td>Android</td>\n",
       "      <td>...</td>\n",
       "      <td>Amazon.in</td>\n",
       "      <td>Amazon.in</td>\n",
       "      <td>Amazon.in</td>\n",
       "      <td>Amazon.in</td>\n",
       "      <td>Amazon.in</td>\n",
       "      <td>Amazon.in</td>\n",
       "      <td>Amazon.in</td>\n",
       "      <td>Amazon.in</td>\n",
       "      <td>Amazon.in</td>\n",
       "      <td>Amazon.in</td>\n",
       "    </tr>\n",
       "    <tr>\n",
       "      <th>265</th>\n",
       "      <td>Female</td>\n",
       "      <td>31-40 years</td>\n",
       "      <td>Ghaziabad</td>\n",
       "      <td>201008</td>\n",
       "      <td>1-2 years</td>\n",
       "      <td>31-40 times</td>\n",
       "      <td>Mobile Internet</td>\n",
       "      <td>Smartphone</td>\n",
       "      <td>Others</td>\n",
       "      <td>Android</td>\n",
       "      <td>...</td>\n",
       "      <td>Flipkart.com</td>\n",
       "      <td>Flipkart.com</td>\n",
       "      <td>Flipkart.com</td>\n",
       "      <td>Flipkart.com</td>\n",
       "      <td>Flipkart.com</td>\n",
       "      <td>Flipkart.com</td>\n",
       "      <td>Flipkart.com</td>\n",
       "      <td>Flipkart.com</td>\n",
       "      <td>Flipkart.com</td>\n",
       "      <td>Flipkart.com</td>\n",
       "    </tr>\n",
       "    <tr>\n",
       "      <th>266</th>\n",
       "      <td>Female</td>\n",
       "      <td>41-50 yaers</td>\n",
       "      <td>Bangalore</td>\n",
       "      <td>560010</td>\n",
       "      <td>2-3 years</td>\n",
       "      <td>Less than 10 times</td>\n",
       "      <td>Mobile internet</td>\n",
       "      <td>Laptop</td>\n",
       "      <td>Others</td>\n",
       "      <td>Window/windows Mobile</td>\n",
       "      <td>...</td>\n",
       "      <td>Amazon.in</td>\n",
       "      <td>Snapdeal.com</td>\n",
       "      <td>Amazon.in</td>\n",
       "      <td>Snapdeal.com</td>\n",
       "      <td>Snapdeal.com</td>\n",
       "      <td>Snapdeal.com</td>\n",
       "      <td>Snapdeal.com</td>\n",
       "      <td>Snapdeal.com</td>\n",
       "      <td>Amazon.in</td>\n",
       "      <td>Amazon.in</td>\n",
       "    </tr>\n",
       "    <tr>\n",
       "      <th>267</th>\n",
       "      <td>Female</td>\n",
       "      <td>Less than 20 years</td>\n",
       "      <td>Solan</td>\n",
       "      <td>173229</td>\n",
       "      <td>2-3 years</td>\n",
       "      <td>Less than 10 times</td>\n",
       "      <td>Wi-Fi</td>\n",
       "      <td>Smartphone</td>\n",
       "      <td>5.5 inches</td>\n",
       "      <td>Android</td>\n",
       "      <td>...</td>\n",
       "      <td>Amazon.in</td>\n",
       "      <td>Amazon.in, Myntra.com, Snapdeal.com</td>\n",
       "      <td>Amazon.in</td>\n",
       "      <td>Amazon.in, Snapdeal.com</td>\n",
       "      <td>Amazon.in</td>\n",
       "      <td>Amazon.in</td>\n",
       "      <td>Amazon.in</td>\n",
       "      <td>Myntra.com, Snapdeal.com</td>\n",
       "      <td>Myntra.com, Snapdeal.com</td>\n",
       "      <td>Amazon.in</td>\n",
       "    </tr>\n",
       "    <tr>\n",
       "      <th>268</th>\n",
       "      <td>Female</td>\n",
       "      <td>41-50 yaers</td>\n",
       "      <td>Ghaziabad</td>\n",
       "      <td>201009</td>\n",
       "      <td>2-3 years</td>\n",
       "      <td>31-40 times</td>\n",
       "      <td>Mobile Internet</td>\n",
       "      <td>Smartphone</td>\n",
       "      <td>5.5 inches</td>\n",
       "      <td>Android</td>\n",
       "      <td>...</td>\n",
       "      <td>Amazon.in</td>\n",
       "      <td>Amazon.in</td>\n",
       "      <td>Amazon.in</td>\n",
       "      <td>Amazon.in</td>\n",
       "      <td>Amazon.in</td>\n",
       "      <td>Amazon.in</td>\n",
       "      <td>Amazon.in</td>\n",
       "      <td>Amazon.in</td>\n",
       "      <td>Amazon.in</td>\n",
       "      <td>Amazon.in</td>\n",
       "    </tr>\n",
       "  </tbody>\n",
       "</table>\n",
       "<p>269 rows × 71 columns</p>\n",
       "</div>"
      ],
      "text/plain": [
       "    1Gender of respondent 2 How old are you?   \\\n",
       "0                    Male         31-40 years   \n",
       "1                  Female         21-30 years   \n",
       "2                  Female         21-30 years   \n",
       "3                    Male         21-30 years   \n",
       "4                  Female         21-30 years   \n",
       "..                    ...                 ...   \n",
       "264                Female         21-30 years   \n",
       "265                Female         31-40 years   \n",
       "266                Female         41-50 yaers   \n",
       "267                Female  Less than 20 years   \n",
       "268                Female         41-50 yaers   \n",
       "\n",
       "    3 Which city do you shop online from?  \\\n",
       "0                                   Delhi   \n",
       "1                                   Delhi   \n",
       "2                           Greater Noida   \n",
       "3                                 Karnal    \n",
       "4                              Bangalore    \n",
       "..                                    ...   \n",
       "264                                 Solan   \n",
       "265                             Ghaziabad   \n",
       "266                            Bangalore    \n",
       "267                                 Solan   \n",
       "268                             Ghaziabad   \n",
       "\n",
       "     4 What is the Pin Code of where you shop online from?  \\\n",
       "0                                               110009       \n",
       "1                                               110030       \n",
       "2                                               201308       \n",
       "3                                               132001       \n",
       "4                                               530068       \n",
       "..                                                 ...       \n",
       "264                                             173212       \n",
       "265                                             201008       \n",
       "266                                             560010       \n",
       "267                                             173229       \n",
       "268                                             201009       \n",
       "\n",
       "    5 Since How Long You are Shopping Online ?  \\\n",
       "0                                Above 4 years   \n",
       "1                                Above 4 years   \n",
       "2                                    3-4 years   \n",
       "3                                    3-4 years   \n",
       "4                                    2-3 years   \n",
       "..                                         ...   \n",
       "264                                  1-2 years   \n",
       "265                                  1-2 years   \n",
       "266                                  2-3 years   \n",
       "267                                  2-3 years   \n",
       "268                                  2-3 years   \n",
       "\n",
       "    6 How many times you have made an online purchase in the past 1 year?  \\\n",
       "0                                          31-40 times                      \n",
       "1                                   41 times and above                      \n",
       "2                                   41 times and above                      \n",
       "3                                   Less than 10 times                      \n",
       "4                                          11-20 times                      \n",
       "..                                                 ...                      \n",
       "264                                 Less than 10 times                      \n",
       "265                                        31-40 times                      \n",
       "266                                 Less than 10 times                      \n",
       "267                                 Less than 10 times                      \n",
       "268                                        31-40 times                      \n",
       "\n",
       "    7 How do you access the internet while shopping on-line?  \\\n",
       "0                                              Dial-up         \n",
       "1                                                Wi-Fi         \n",
       "2                                      Mobile Internet         \n",
       "3                                      Mobile Internet         \n",
       "4                                                Wi-Fi         \n",
       "..                                                 ...         \n",
       "264                                    Mobile Internet         \n",
       "265                                    Mobile Internet         \n",
       "266                                    Mobile internet         \n",
       "267                                              Wi-Fi         \n",
       "268                                    Mobile Internet         \n",
       "\n",
       "    8 Which device do you use to access the online shopping?  \\\n",
       "0                                              Desktop         \n",
       "1                                           Smartphone         \n",
       "2                                           Smartphone         \n",
       "3                                           Smartphone         \n",
       "4                                           Smartphone         \n",
       "..                                                 ...         \n",
       "264                                         Smartphone         \n",
       "265                                         Smartphone         \n",
       "266                                             Laptop         \n",
       "267                                         Smartphone         \n",
       "268                                         Smartphone         \n",
       "\n",
       "    9 What is the screen size of your mobile device?\\t\\t\\t\\t\\t\\t                                          \\\n",
       "0                                               Others                                                     \n",
       "1                                           4.7 inches                                                     \n",
       "2                                           5.5 inches                                                     \n",
       "3                                           5.5 inches                                                     \n",
       "4                                           4.7 inches                                                     \n",
       "..                                                 ...                                                     \n",
       "264                                         5.5 inches                                                     \n",
       "265                                             Others                                                     \n",
       "266                                             Others                                                     \n",
       "267                                         5.5 inches                                                     \n",
       "268                                         5.5 inches                                                     \n",
       "\n",
       "    10 What is the operating system (OS) of your device?\\t\\t\\t\\t                                            \\\n",
       "0                                Window/windows Mobile                                                       \n",
       "1                                              IOS/Mac                                                       \n",
       "2                                              Android                                                       \n",
       "3                                              IOS/Mac                                                       \n",
       "4                                              IOS/Mac                                                       \n",
       "..                                                 ...                                                       \n",
       "264                                            Android                                                       \n",
       "265                                            Android                                                       \n",
       "266                              Window/windows Mobile                                                       \n",
       "267                                            Android                                                       \n",
       "268                                            Android                                                       \n",
       "\n",
       "     ... Longer time to get logged in (promotion, sales period)  \\\n",
       "0    ...                                          Amazon.in       \n",
       "1    ...                            Amazon.in, Flipkart.com       \n",
       "2    ...                                         Myntra.com       \n",
       "3    ...                                       Snapdeal.com       \n",
       "4    ...                            Flipkart.com, Paytm.com       \n",
       "..   ...                                                ...       \n",
       "264  ...                                          Amazon.in       \n",
       "265  ...                                       Flipkart.com       \n",
       "266  ...                                          Amazon.in       \n",
       "267  ...                                          Amazon.in       \n",
       "268  ...                                          Amazon.in       \n",
       "\n",
       "    Longer time in displaying graphics and photos (promotion, sales period)  \\\n",
       "0                                            Amazon.in                        \n",
       "1                                           Myntra.com                        \n",
       "2                                           Myntra.com                        \n",
       "3                             Myntra.com, Snapdeal.com                        \n",
       "4                                            Paytm.com                        \n",
       "..                                                 ...                        \n",
       "264                                          Amazon.in                        \n",
       "265                                       Flipkart.com                        \n",
       "266                                       Snapdeal.com                        \n",
       "267                Amazon.in, Myntra.com, Snapdeal.com                        \n",
       "268                                          Amazon.in                        \n",
       "\n",
       "    Late declaration of price (promotion, sales period)  \\\n",
       "0                                         Flipkart.com    \n",
       "1                                         snapdeal.com    \n",
       "2                                           Myntra.com    \n",
       "3                                           Myntra.com    \n",
       "4                                            Paytm.com    \n",
       "..                                                 ...    \n",
       "264                                          Amazon.in    \n",
       "265                                       Flipkart.com    \n",
       "266                                          Amazon.in    \n",
       "267                                          Amazon.in    \n",
       "268                                          Amazon.in    \n",
       "\n",
       "    Longer page loading time (promotion, sales period)  \\\n",
       "0                                         Flipkart.com   \n",
       "1                                         Snapdeal.com   \n",
       "2                                           Myntra.com   \n",
       "3                                            Paytm.com   \n",
       "4                                            Paytm.com   \n",
       "..                                                 ...   \n",
       "264                                          Amazon.in   \n",
       "265                                       Flipkart.com   \n",
       "266                                       Snapdeal.com   \n",
       "267                            Amazon.in, Snapdeal.com   \n",
       "268                                          Amazon.in   \n",
       "\n",
       "    Limited mode of payment on most products (promotion, sales period)  \\\n",
       "0                                            Amazon.in                   \n",
       "1                                         Snapdeal.com                   \n",
       "2                                            Amazon.in                   \n",
       "3                                            Paytm.com                   \n",
       "4                                         Snapdeal.com                   \n",
       "..                                                 ...                   \n",
       "264                                          Amazon.in                   \n",
       "265                                       Flipkart.com                   \n",
       "266                                       Snapdeal.com                   \n",
       "267                                          Amazon.in                   \n",
       "268                                          Amazon.in                   \n",
       "\n",
       "    Longer delivery period Change in website/Application design  \\\n",
       "0                Paytm.com                         Flipkart.com   \n",
       "1             Snapdeal.com                            Amazon.in   \n",
       "2                Paytm.com                            Paytm.com   \n",
       "3                Paytm.com              Amazon.in, Flipkart.com   \n",
       "4                Paytm.com                            Amazon.in   \n",
       "..                     ...                                  ...   \n",
       "264              Amazon.in                            Amazon.in   \n",
       "265           Flipkart.com                         Flipkart.com   \n",
       "266           Snapdeal.com                         Snapdeal.com   \n",
       "267              Amazon.in                            Amazon.in   \n",
       "268              Amazon.in                            Amazon.in   \n",
       "\n",
       "    Frequent disruption when moving from one page to another  \\\n",
       "0                                            Amazon.in         \n",
       "1                                           Myntra.com         \n",
       "2                                            Paytm.com         \n",
       "3                              Amazon.in, Flipkart.com         \n",
       "4                                         Snapdeal.com         \n",
       "..                                                 ...         \n",
       "264                                          Amazon.in         \n",
       "265                                       Flipkart.com         \n",
       "266                                       Snapdeal.com         \n",
       "267                           Myntra.com, Snapdeal.com         \n",
       "268                                          Amazon.in         \n",
       "\n",
       "      Website is as efficient as before  \\\n",
       "0                             Amazon.in   \n",
       "1               Amazon.in, Flipkart.com   \n",
       "2                             Amazon.in   \n",
       "3    Amazon.in, Flipkart.com, Paytm.com   \n",
       "4                             Paytm.com   \n",
       "..                                  ...   \n",
       "264                           Amazon.in   \n",
       "265                        Flipkart.com   \n",
       "266                           Amazon.in   \n",
       "267            Myntra.com, Snapdeal.com   \n",
       "268                           Amazon.in   \n",
       "\n",
       "    Which of the Indian online retailer would you recommend to a friend?  \n",
       "0                                         Flipkart.com                    \n",
       "1                                Amazon.in, Myntra.com                    \n",
       "2                     Amazon.in, Paytm.com, Myntra.com                    \n",
       "3                              Amazon.in, Flipkart.com                    \n",
       "4                                Amazon.in, Myntra.com                    \n",
       "..                                                 ...                    \n",
       "264                                          Amazon.in                    \n",
       "265                                       Flipkart.com                    \n",
       "266                                          Amazon.in                    \n",
       "267                                          Amazon.in                    \n",
       "268                                          Amazon.in                    \n",
       "\n",
       "[269 rows x 71 columns]"
      ]
     },
     "execution_count": 70,
     "metadata": {},
     "output_type": "execute_result"
    }
   ],
   "source": [
    "data = pd.read_excel(r'D:\\Data Science\\Internship - Flip Robo\\Customer_retention_dataset\\customer_retention_dataset_2.xlsx')\n",
    "data"
   ]
  },
  {
   "cell_type": "code",
   "execution_count": 518,
   "id": "bb362d71",
   "metadata": {},
   "outputs": [
    {
     "data": {
      "text/plain": [
       "1Gender of respondent                                                    0\n",
       "46 Shopping on the website helps you fulfill certain roles               0\n",
       "Complete, relevant description information of products                   0\n",
       "Wild variety of product on offer                                         0\n",
       "Visual appealing web-page layout                                         0\n",
       "                                                                        ..\n",
       "24 User friendly Interface of the website                                0\n",
       "23 Loading and processing speed                                          0\n",
       "22 Ease of navigation in website                                         0\n",
       "21 All relevant information on listed products must be stated clearly    0\n",
       "Which of the Indian online retailer would you recommend to a friend?     0\n",
       "Length: 71, dtype: int64"
      ]
     },
     "execution_count": 518,
     "metadata": {},
     "output_type": "execute_result"
    }
   ],
   "source": [
    "data.isna().sum().sort_values(ascending=False)"
   ]
  },
  {
   "cell_type": "code",
   "execution_count": 68,
   "id": "250b1eea",
   "metadata": {},
   "outputs": [],
   "source": [
    "data.columns = data.columns.str.replace(' ','')"
   ]
  },
  {
   "cell_type": "code",
   "execution_count": 71,
   "id": "0ba55523",
   "metadata": {},
   "outputs": [
    {
     "name": "stdout",
     "output_type": "stream",
     "text": [
      "1Gender of respondent\n",
      "2 How old are you? \n",
      "3 Which city do you shop online from?\n",
      "4 What is the Pin Code of where you shop online from?\n",
      "5 Since How Long You are Shopping Online ?\n",
      "6 How many times you have made an online purchase in the past 1 year?\n",
      "7 How do you access the internet while shopping on-line?\n",
      "8 Which device do you use to access the online shopping?\n",
      "9 What is the screen size of your mobile device?\t\t\t\t\t\t                                        \n",
      "10 What is the operating system (OS) of your device?\t\t\t\t                                          \n",
      "11 What browser do you run on your device to access the website?\t\t\t                                                          \n",
      "12 Which channel did you follow to arrive at your favorite online store for the first time?                                                                   \n",
      "13 After first visit, how do you reach the online retail store?\t\t\t\t                                                   \n",
      "14 How much time do you explore the e- retail store before making a purchase decision?                                                                   \n",
      "15 What is your preferred payment Option?\t\t\t\t\t                                                                                                                               \n",
      "16 How frequently do you abandon (selecting an items and leaving without making payment) your shopping cart?\t\t\t\t\t\t\t                                                   \n",
      "17 Why did you abandon the “Bag”, “Shopping Cart”?\t\t\t\t\t                                                                                                                                                       \n",
      "18 The content on the website must be easy to read and understand\n",
      "19 Information on similar product to the one highlighted  is important for product comparison\n",
      "20 Complete information on listed seller and product being offered is important for purchase decision.\n",
      "21 All relevant information on listed products must be stated clearly\n",
      "22 Ease of navigation in website\n",
      "23 Loading and processing speed\n",
      "24 User friendly Interface of the website\n",
      "25 Convenient Payment methods\n",
      "26 Trust that the online retail store will fulfill its part of the transaction at the stipulated time\n",
      "27 Empathy (readiness to assist with queries) towards the customers\n",
      "28 Being able to guarantee the privacy of the customer\n",
      "29 Responsiveness, availability of several communication channels (email, online rep, twitter, phone etc.)\n",
      "30 Online shopping gives monetary benefit and discounts\n",
      "31 Enjoyment is derived from shopping online\n",
      "32 Shopping online is convenient and flexible\n",
      "33 Return and replacement policy of the e-tailer is important for purchase decision\n",
      "34 Gaining access to loyalty programs is a benefit of shopping online\n",
      "35 Displaying quality Information on the website improves satisfaction of customers\n",
      "36 User derive satisfaction while shopping on a good quality website or application\n",
      "37 Net Benefit derived from shopping online can lead to users satisfaction\n",
      "38 User satisfaction cannot exist without trust\n",
      "39 Offering a wide variety of listed product in several category\n",
      "40 Provision of complete and relevant product information\n",
      "41 Monetary savings\n",
      "42 The Convenience of patronizing the online retailer\n",
      "43 Shopping on the website gives you the sense of adventure\n",
      "44 Shopping on your preferred e-tailer enhances your social status\n",
      "45 You feel gratification shopping on your favorite e-tailer\n",
      "46 Shopping on the website helps you fulfill certain roles\n",
      "47 Getting value for money spent\n",
      "From the following, tick any (or all) of the online retailers you have shopped from;                                                                           \n",
      "Easy to use website or application\n",
      "Visual appealing web-page layout\n",
      "Wild variety of product on offer\n",
      "Complete, relevant description information of products\n",
      "Fast loading website speed of website and application\n",
      "Reliability of the website or application\n",
      "Quickness to complete purchase\n",
      "Availability of several payment options\n",
      "Speedy order delivery \n",
      "Privacy of customers’ information\n",
      "Security of customer financial information\n",
      "Perceived Trustworthiness\n",
      "Presence of online assistance through multi-channel\n",
      "Longer time to get logged in (promotion, sales period)\n",
      "Longer time in displaying graphics and photos (promotion, sales period)\n",
      "Late declaration of price (promotion, sales period)\n",
      "Longer page loading time (promotion, sales period)\n",
      "Limited mode of payment on most products (promotion, sales period)\n",
      "Longer delivery period\n",
      "Change in website/Application design\n",
      "Frequent disruption when moving from one page to another\n",
      "Website is as efficient as before\n",
      "Which of the Indian online retailer would you recommend to a friend?\n"
     ]
    }
   ],
   "source": [
    "# lets check the column header\n",
    "for i in data.columns:\n",
    "    print(i)"
   ]
  },
  {
   "cell_type": "code",
   "execution_count": 19,
   "id": "d3eed43a",
   "metadata": {},
   "outputs": [
    {
     "name": "stdout",
     "output_type": "stream",
     "text": [
      "1Gender of respondent  ---- 2 \n",
      "\n",
      "2 How old are you?   ---- 5 \n",
      "\n",
      "3 Which city do you shop online from?  ---- 11 \n",
      "\n",
      "5 Since How Long You are Shopping Online ?  ---- 5 \n",
      "\n",
      "6 How many times you have made an online purchase in the past 1 year?  ---- 6 \n",
      "\n",
      "7 How do you access the internet while shopping on-line?  ---- 4 \n",
      "\n",
      "8 Which device do you use to access the online shopping?  ---- 4 \n",
      "\n",
      "9 What is the screen size of your mobile device?\t\t\t\t\t\t                                          ---- 4 \n",
      "\n",
      "10 What is the operating system (OS) of your device?\t\t\t\t                                            ---- 3 \n",
      "\n",
      "11 What browser do you run on your device to access the website?\t\t\t                                                            ---- 4 \n",
      "\n",
      "12 Which channel did you follow to arrive at your favorite online store for the first time?                                                                     ---- 3 \n",
      "\n",
      "13 After first visit, how do you reach the online retail store?\t\t\t\t                                                     ---- 5 \n",
      "\n",
      "14 How much time do you explore the e- retail store before making a purchase decision?                                                                     ---- 5 \n",
      "\n",
      "15 What is your preferred payment Option?\t\t\t\t\t                                                                                                                                 ---- 3 \n",
      "\n",
      "16 How frequently do you abandon (selecting an items and leaving without making payment) your shopping cart?\t\t\t\t\t\t\t                                                     ---- 4 \n",
      "\n",
      "17 Why did you abandon the “Bag”, “Shopping Cart”?\t\t\t\t\t                                                                                                                                                         ---- 5 \n",
      "\n",
      "18 The content on the website must be easy to read and understand  ---- 4 \n",
      "\n",
      "19 Information on similar product to the one highlighted  is important for product comparison  ---- 4 \n",
      "\n",
      "20 Complete information on listed seller and product being offered is important for purchase decision.  ---- 5 \n",
      "\n",
      "21 All relevant information on listed products must be stated clearly  ---- 4 \n",
      "\n",
      "22 Ease of navigation in website  ---- 4 \n",
      "\n",
      "23 Loading and processing speed  ---- 5 \n",
      "\n",
      "24 User friendly Interface of the website  ---- 5 \n",
      "\n",
      "25 Convenient Payment methods  ---- 3 \n",
      "\n",
      "26 Trust that the online retail store will fulfill its part of the transaction at the stipulated time  ---- 4 \n",
      "\n",
      "27 Empathy (readiness to assist with queries) towards the customers  ---- 4 \n",
      "\n",
      "28 Being able to guarantee the privacy of the customer  ---- 3 \n",
      "\n",
      "29 Responsiveness, availability of several communication channels (email, online rep, twitter, phone etc.)  ---- 4 \n",
      "\n",
      "30 Online shopping gives monetary benefit and discounts  ---- 5 \n",
      "\n",
      "31 Enjoyment is derived from shopping online  ---- 5 \n",
      "\n",
      "32 Shopping online is convenient and flexible  ---- 4 \n",
      "\n",
      "33 Return and replacement policy of the e-tailer is important for purchase decision  ---- 3 \n",
      "\n",
      "34 Gaining access to loyalty programs is a benefit of shopping online  ---- 5 \n",
      "\n",
      "35 Displaying quality Information on the website improves satisfaction of customers  ---- 3 \n",
      "\n",
      "36 User derive satisfaction while shopping on a good quality website or application  ---- 3 \n",
      "\n",
      "37 Net Benefit derived from shopping online can lead to users satisfaction  ---- 4 \n",
      "\n",
      "38 User satisfaction cannot exist without trust  ---- 5 \n",
      "\n",
      "39 Offering a wide variety of listed product in several category  ---- 4 \n",
      "\n",
      "40 Provision of complete and relevant product information  ---- 4 \n",
      "\n",
      "41 Monetary savings  ---- 4 \n",
      "\n",
      "42 The Convenience of patronizing the online retailer  ---- 3 \n",
      "\n",
      "43 Shopping on the website gives you the sense of adventure  ---- 5 \n",
      "\n",
      "44 Shopping on your preferred e-tailer enhances your social status  ---- 5 \n",
      "\n",
      "45 You feel gratification shopping on your favorite e-tailer  ---- 5 \n",
      "\n",
      "46 Shopping on the website helps you fulfill certain roles  ---- 5 \n",
      "\n",
      "47 Getting value for money spent  ---- 3 \n",
      "\n",
      "From the following, tick any (or all) of the online retailers you have shopped from;                                                                             ---- 9 \n",
      "\n",
      "Easy to use website or application  ---- 10 \n",
      "\n",
      "Visual appealing web-page layout  ---- 10 \n",
      "\n",
      "Wild variety of product on offer  ---- 9 \n",
      "\n",
      "Complete, relevant description information of products  ---- 11 \n",
      "\n",
      "Fast loading website speed of website and application  ---- 10 \n",
      "\n",
      "Reliability of the website or application  ---- 10 \n",
      "\n",
      "Quickness to complete purchase  ---- 9 \n",
      "\n",
      "Availability of several payment options  ---- 11 \n",
      "\n",
      "Speedy order delivery   ---- 6 \n",
      "\n",
      "Privacy of customers’ information  ---- 11 \n",
      "\n",
      "Security of customer financial information  ---- 11 \n",
      "\n",
      "Perceived Trustworthiness  ---- 9 \n",
      "\n",
      "Presence of online assistance through multi-channel  ---- 10 \n",
      "\n",
      "Longer time to get logged in (promotion, sales period)  ---- 10 \n",
      "\n",
      "Longer time in displaying graphics and photos (promotion, sales period)  ---- 10 \n",
      "\n",
      "Late declaration of price (promotion, sales period)  ---- 8 \n",
      "\n",
      "Longer page loading time (promotion, sales period)  ---- 11 \n",
      "\n",
      "Limited mode of payment on most products (promotion, sales period)  ---- 8 \n",
      "\n",
      "Longer delivery period  ---- 6 \n",
      "\n",
      "Change in website/Application design  ---- 7 \n",
      "\n",
      "Frequent disruption when moving from one page to another  ---- 8 \n",
      "\n",
      "Website is as efficient as before  ---- 8 \n",
      "\n",
      "Which of the Indian online retailer would you recommend to a friend?  ---- 8 \n",
      "\n"
     ]
    }
   ],
   "source": [
    "for i in data.columns:\n",
    "    if data[i].dtypes == 'object':\n",
    "        print(i, ' ----', len(data[i].unique()),'\\n')"
   ]
  },
  {
   "cell_type": "code",
   "execution_count": 23,
   "id": "196ac701",
   "metadata": {},
   "outputs": [
    {
     "data": {
      "text/plain": [
       "(269, 71)"
      ]
     },
     "execution_count": 23,
     "metadata": {},
     "output_type": "execute_result"
    }
   ],
   "source": [
    "data.shape"
   ]
  },
  {
   "cell_type": "code",
   "execution_count": 520,
   "id": "d56659b1",
   "metadata": {},
   "outputs": [
    {
     "data": {
      "text/plain": [
       "Index(['Female', 'Male'], dtype='object')"
      ]
     },
     "execution_count": 520,
     "metadata": {},
     "output_type": "execute_result"
    },
    {
     "data": {
      "image/png": "[encoded data removed]",
      "text/plain": [
       "<Figure size 432x288 with 1 Axes>"
      ]
     },
     "metadata": {
      "needs_background": "light"
     },
     "output_type": "display_data"
    }
   ],
   "source": [
    "# lets check the demograhics of the respondants\n",
    "ax = sns.countplot(data['1Gender of respondent'],order=x.index.sort_values(ascending=True),)\n",
    "ax.bar_label(labels=x,container=ax.containers[0])\n",
    "x =round((data['1Gender of respondent'].value_counts() / data.shape[0]*100),2)\n",
    "x.index.sort_values(ascending=True)"
   ]
  },
  {
   "cell_type": "code",
   "execution_count": 15,
   "id": "3862e374",
   "metadata": {},
   "outputs": [
    {
     "data": {
      "text/plain": [
       "<AxesSubplot:xlabel='2 How old are you? ', ylabel='count'>"
      ]
     },
     "execution_count": 15,
     "metadata": {},
     "output_type": "execute_result"
    },
    {
     "data": {
      "image/png": "[encoded data removed]",
      "text/plain": [
       "<Figure size 720x720 with 1 Axes>"
      ]
     },
     "metadata": {
      "needs_background": "light"
     },
     "output_type": "display_data"
    }
   ],
   "source": [
    "plt.figure(figsize=(10,10))\n",
    "sns.countplot(data['2 How old are you? '])"
   ]
  },
  {
   "cell_type": "code",
   "execution_count": 18,
   "id": "5f277b30",
   "metadata": {},
   "outputs": [
    {
     "data": {
      "text/plain": [
       "<AxesSubplot:xlabel='3 Which city do you shop online from?', ylabel='count'>"
      ]
     },
     "execution_count": 18,
     "metadata": {},
     "output_type": "execute_result"
    },
    {
     "data": {
      "image/png": "[encoded data removed]",
      "text/plain": [
       "<Figure size 1080x1080 with 1 Axes>"
      ]
     },
     "metadata": {
      "needs_background": "light"
     },
     "output_type": "display_data"
    }
   ],
   "source": [
    "plt.figure(figsize=(15,15))\n",
    "sns.countplot(data['3 Which city do you shop online from?'])"
   ]
  },
  {
   "cell_type": "markdown",
   "id": "b5e36bde",
   "metadata": {},
   "source": [
    "from the above bar graphs we can conclude that:\n",
    "    \n",
    "   - around 68% of the respondant are female however only 32% of the respondants are male\n",
    "   - majority of the shopper belongs to the 31-40 age group followed by 21-20 age group, however the youngest and eldest age group are least involved in online shopping\n",
    "   - most of the online shoppers belongs to the major cities such as delhi, banglore and noida, however people from smaller cities are less involved in shopping online"
   ]
  },
  {
   "cell_type": "code",
   "execution_count": 29,
   "id": "6e64b988",
   "metadata": {},
   "outputs": [
    {
     "data": {
      "text/plain": [
       "<AxesSubplot:xlabel='5 Since How Long You are Shopping Online ?', ylabel='count'>"
      ]
     },
     "execution_count": 29,
     "metadata": {},
     "output_type": "execute_result"
    },
    {
     "data": {
      "image/png": "[encoded data removed]",
      "text/plain": [
       "<Figure size 1080x1080 with 1 Axes>"
      ]
     },
     "metadata": {
      "needs_background": "light"
     },
     "output_type": "display_data"
    }
   ],
   "source": [
    "plt.figure(figsize=(15,15))\n",
    "sns.countplot(data['5 Since How Long You are Shopping Online ?'],hue=data['6 How many times you have made an online purchase in the past 1 year?'])"
   ]
  },
  {
   "cell_type": "markdown",
   "id": "61bdf508",
   "metadata": {},
   "source": [
    "when we compare time span of online consumer with the frequency we see that  new consumers are tends to shop less frequently, however the oldest consumer tends to shop 31-40 times a year"
   ]
  },
  {
   "cell_type": "code",
   "execution_count": 34,
   "id": "a7fb84c4",
   "metadata": {},
   "outputs": [
    {
     "data": {
      "text/plain": [
       "<AxesSubplot:xlabel='6 How many times you have made an online purchase in the past 1 year?', ylabel='count'>"
      ]
     },
     "execution_count": 34,
     "metadata": {},
     "output_type": "execute_result"
    },
    {
     "data": {
      "image/png": "[encoded data removed]",
      "text/plain": [
       "<Figure size 1080x1080 with 1 Axes>"
      ]
     },
     "metadata": {
      "needs_background": "light"
     },
     "output_type": "display_data"
    }
   ],
   "source": [
    "plt.figure(figsize=(15,15))\n",
    "sns.countplot(data['6 How many times you have made an online purchase in the past 1 year?'],hue=data['1Gender of respondent'])"
   ]
  },
  {
   "cell_type": "markdown",
   "id": "de570bd8",
   "metadata": {},
   "source": [
    "here we see that females are more frequent online buyer as compared to male "
   ]
  },
  {
   "cell_type": "code",
   "execution_count": 56,
   "id": "2d61c127",
   "metadata": {},
   "outputs": [
    {
     "data": {
      "image/png": "[encoded data removed]",
      "text/plain": [
       "<Figure size 864x864 with 1 Axes>"
      ]
     },
     "metadata": {},
     "output_type": "display_data"
    }
   ],
   "source": [
    "plt.figure(figsize=(12,12))\n",
    "x = data['8 Which device do you use to access the online shopping?'].value_counts().index\n",
    "plt.pie(data['8 Which device do you use to access the online shopping?'].value_counts(), labels = x,autopct='%1.1f%%')\n",
    "plt.show()"
   ]
  },
  {
   "cell_type": "markdown",
   "id": "494798b3",
   "metadata": {},
   "source": [
    "more than 50% of the users use smartphone as the source for online shopping\n",
    "\n",
    "now lets break this into male and female and lets see how it differs based on the gender"
   ]
  },
  {
   "cell_type": "code",
   "execution_count": 55,
   "id": "73a0fab6",
   "metadata": {},
   "outputs": [
    {
     "data": {
      "image/png": "[encoded data removed]",
      "text/plain": [
       "<Figure size 1080x1080 with 2 Axes>"
      ]
     },
     "metadata": {},
     "output_type": "display_data"
    },
    {
     "data": {
      "text/plain": [
       "<Figure size 720x720 with 0 Axes>"
      ]
     },
     "metadata": {},
     "output_type": "display_data"
    }
   ],
   "source": [
    "fig, (ax1,ax2) = plt.subplots(1,2,figsize=(15,15))\n",
    "x = data['8 Which device do you use to access the online shopping?'].value_counts().index\n",
    "y = data[data['1Gender of respondent'] == 'Female']['8 Which device do you use to access the online shopping?'].value_counts().index\n",
    "plt.figure(figsize=(10,10))\n",
    "ax1.pie(data[data['1Gender of respondent'] == 'Male']['8 Which device do you use to access the online shopping?'].value_counts(), labels = x,autopct='%1.1f%%')\n",
    "ax1.set_title('Male')\n",
    "ax2.pie(data[data['1Gender of respondent'] == 'Female']['8 Which device do you use to access the online shopping?'].value_counts(), labels = y,autopct='%1.1f%%')\n",
    "ax2.set_title('Female')\n",
    "plt.show()"
   ]
  },
  {
   "cell_type": "markdown",
   "id": "9d9145ce",
   "metadata": {},
   "source": [
    "smartphone, is the dominant source for shopping online however female shopper dont use tablets for shopping purposes"
   ]
  },
  {
   "cell_type": "code",
   "execution_count": 65,
   "id": "e6df1c36",
   "metadata": {},
   "outputs": [
    {
     "data": {
      "image/png": "[encoded data removed]",
      "text/plain": [
       "<Figure size 864x864 with 1 Axes>"
      ]
     },
     "metadata": {},
     "output_type": "display_data"
    }
   ],
   "source": [
    "plt.figure(figsize=(12,12))\n",
    "x = data['15 What is your preferred payment Option?\\t\\t\\t\\t\\t                                                                                                                               '].value_counts().index\n",
    "plt.pie(data['15 What is your preferred payment Option?\\t\\t\\t\\t\\t                                                                                                                               '].value_counts(),labels= x,autopct='%1.1f%%')\n",
    "plt.show()"
   ]
  },
  {
   "cell_type": "markdown",
   "id": "29928857",
   "metadata": {},
   "source": [
    "hre we see an interesting trend that more than 50% of the respondant uses credit/debit card to make the payment, however only 28.3% of the repondants uses COD"
   ]
  },
  {
   "cell_type": "code",
   "execution_count": 84,
   "id": "a998e93e",
   "metadata": {},
   "outputs": [
    {
     "data": {
      "image/png": "[encoded data removed]",
      "text/plain": [
       "<Figure size 1080x1080 with 1 Axes>"
      ]
     },
     "metadata": {
      "needs_background": "light"
     },
     "output_type": "display_data"
    }
   ],
   "source": [
    "plt.figure(figsize=(15,15))\n",
    "sns.countplot(data['15 What is your preferred payment Option?\\t\\t\\t\\t\\t                                                                                                                               '],hue=data['1Gender of respondent'])\n",
    "plt.show()"
   ]
  },
  {
   "cell_type": "markdown",
   "id": "593ac894",
   "metadata": {},
   "source": [
    "inspite of Credit/debit card being the most preffered mode of payment by the user, but when we bifurcate it by ender we can see that COD is quite popular amongs female respondants"
   ]
  },
  {
   "cell_type": "code",
   "execution_count": 523,
   "id": "6ac16645",
   "metadata": {},
   "outputs": [
    {
     "data": {
      "image/png": "[encoded data removed]",
      "text/plain": [
       "<Figure size 1080x1080 with 1 Axes>"
      ]
     },
     "metadata": {
      "needs_background": "light"
     },
     "output_type": "display_data"
    }
   ],
   "source": [
    "plt.figure(figsize=(15,15))\n",
    "sns.countplot(hue=data['15 What is your preferred payment Option?\\t\\t\\t\\t\\t                                                                                                                               '],x=data['5 Since How Long You are Shopping Online ?'])\n",
    "plt.show()"
   ]
  },
  {
   "cell_type": "code",
   "execution_count": 120,
   "id": "fd11dc3f",
   "metadata": {},
   "outputs": [
    {
     "data": {
      "image/png": "[encoded data removed]",
      "text/plain": [
       "<Figure size 1080x1080 with 1 Axes>"
      ]
     },
     "metadata": {
      "needs_background": "light"
     },
     "output_type": "display_data"
    }
   ],
   "source": [
    "plt.figure(figsize=(15,15))\n",
    "sns.countplot(hue=data['15 What is your preferred payment Option?\\t\\t\\t\\t\\t                                                                                                                               '],x=data['3 Which city do you shop online from?'])\n",
    "plt.show()"
   ]
  },
  {
   "cell_type": "markdown",
   "id": "4b01452b",
   "metadata": {},
   "source": [
    "here we can see that shoppers from bigger cities like delhi , banglore, Noida, Credit card is the most preferred mode of payment, but when we check the pattern of the smaller cities we see that people are more reluctant in using credit card or wallet, due to this COD is the most popular form of payment in these cities"
   ]
  },
  {
   "cell_type": "code",
   "execution_count": 127,
   "id": "3541eb83",
   "metadata": {},
   "outputs": [
    {
     "data": {
      "image/png": "[encoded data removed]",
      "text/plain": [
       "<Figure size 1080x1080 with 1 Axes>"
      ]
     },
     "metadata": {
      "needs_background": "light"
     },
     "output_type": "display_data"
    },
    {
     "name": "stdout",
     "output_type": "stream",
     "text": [
      "Strongly agree (5)    55.02\n",
      "Agree (4)             27.88\n",
      "Disagree (2)          11.52\n",
      "indifferent (3)        5.58\n",
      "Name: 41 Monetary savings, dtype: float64\n"
     ]
    }
   ],
   "source": [
    "plt.figure(figsize=(15,15))\n",
    "sns.countplot(data['41 Monetary savings'])\n",
    "plt.show()\n",
    "print(round((data['41 Monetary savings'].value_counts() / data.shape[0]*100),2))"
   ]
  },
  {
   "cell_type": "markdown",
   "id": "1ed3149e",
   "metadata": {},
   "source": [
    "more than 50% of the repsondant believes that monetory saving is one of the reason for shopping online"
   ]
  },
  {
   "cell_type": "code",
   "execution_count": 244,
   "id": "4a8d0ba1",
   "metadata": {},
   "outputs": [
    {
     "data": {
      "text/html": [
       "<div>\n",
       "<style scoped>\n",
       "    .dataframe tbody tr th:only-of-type {\n",
       "        vertical-align: middle;\n",
       "    }\n",
       "\n",
       "    .dataframe tbody tr th {\n",
       "        vertical-align: top;\n",
       "    }\n",
       "\n",
       "    .dataframe thead th {\n",
       "        text-align: right;\n",
       "    }\n",
       "</style>\n",
       "<table border=\"1\" class=\"dataframe\">\n",
       "  <thead>\n",
       "    <tr style=\"text-align: right;\">\n",
       "      <th></th>\n",
       "      <th>30 Online shopping gives monetary benefit and discounts</th>\n",
       "    </tr>\n",
       "  </thead>\n",
       "  <tbody>\n",
       "    <tr>\n",
       "      <th>Strongly Agree</th>\n",
       "      <td>39.03</td>\n",
       "    </tr>\n",
       "    <tr>\n",
       "      <th>Agree</th>\n",
       "      <td>31.60</td>\n",
       "    </tr>\n",
       "    <tr>\n",
       "      <th>Indifferent</th>\n",
       "      <td>18.59</td>\n",
       "    </tr>\n",
       "    <tr>\n",
       "      <th>Strongly Disagree</th>\n",
       "      <td>6.69</td>\n",
       "    </tr>\n",
       "    <tr>\n",
       "      <th>Disagree</th>\n",
       "      <td>4.09</td>\n",
       "    </tr>\n",
       "  </tbody>\n",
       "</table>\n",
       "</div>"
      ],
      "text/plain": [
       "                   30 Online shopping gives monetary benefit and discounts\n",
       "Strongly Agree                                                 39.03      \n",
       "Agree                                                          31.60      \n",
       "Indifferent                                                    18.59      \n",
       "Strongly Disagree                                               6.69      \n",
       "Disagree                                                        4.09      "
      ]
     },
     "execution_count": 244,
     "metadata": {},
     "output_type": "execute_result"
    }
   ],
   "source": [
    "x = round((data['30 Online shopping gives monetary benefit and discounts'].value_counts() / data.shape[0]*100),2)\n",
    "x = pd.DataFrame(x)\n",
    "x"
   ]
  },
  {
   "cell_type": "code",
   "execution_count": 245,
   "id": "429a399d",
   "metadata": {},
   "outputs": [
    {
     "data": {
      "text/html": [
       "<div>\n",
       "<style scoped>\n",
       "    .dataframe tbody tr th:only-of-type {\n",
       "        vertical-align: middle;\n",
       "    }\n",
       "\n",
       "    .dataframe tbody tr th {\n",
       "        vertical-align: top;\n",
       "    }\n",
       "\n",
       "    .dataframe thead th {\n",
       "        text-align: right;\n",
       "    }\n",
       "</style>\n",
       "<table border=\"1\" class=\"dataframe\">\n",
       "  <thead>\n",
       "    <tr style=\"text-align: right;\">\n",
       "      <th></th>\n",
       "      <th>30 Online shopping gives monetary benefit and discounts</th>\n",
       "      <th>41 Monetary savings</th>\n",
       "    </tr>\n",
       "  </thead>\n",
       "  <tbody>\n",
       "    <tr>\n",
       "      <th>Strongly Agree</th>\n",
       "      <td>39.03</td>\n",
       "      <td>55.02</td>\n",
       "    </tr>\n",
       "    <tr>\n",
       "      <th>Agree</th>\n",
       "      <td>31.60</td>\n",
       "      <td>27.88</td>\n",
       "    </tr>\n",
       "    <tr>\n",
       "      <th>Indifferent</th>\n",
       "      <td>18.59</td>\n",
       "      <td>5.58</td>\n",
       "    </tr>\n",
       "    <tr>\n",
       "      <th>Strongly Disagree</th>\n",
       "      <td>6.69</td>\n",
       "      <td>NaN</td>\n",
       "    </tr>\n",
       "    <tr>\n",
       "      <th>Disagree</th>\n",
       "      <td>4.09</td>\n",
       "      <td>11.52</td>\n",
       "    </tr>\n",
       "  </tbody>\n",
       "</table>\n",
       "</div>"
      ],
      "text/plain": [
       "                   30 Online shopping gives monetary benefit and discounts  \\\n",
       "Strongly Agree                                                 39.03         \n",
       "Agree                                                          31.60         \n",
       "Indifferent                                                    18.59         \n",
       "Strongly Disagree                                               6.69         \n",
       "Disagree                                                        4.09         \n",
       "\n",
       "                   41 Monetary savings  \n",
       "Strongly Agree                   55.02  \n",
       "Agree                            27.88  \n",
       "Indifferent                       5.58  \n",
       "Strongly Disagree                  NaN  \n",
       "Disagree                         11.52  "
      ]
     },
     "execution_count": 245,
     "metadata": {},
     "output_type": "execute_result"
    }
   ],
   "source": [
    "x['41 Monetary savings'] = round((data['41 Monetary savings'].value_counts() / data.shape[0]*100),2)\n",
    "x"
   ]
  },
  {
   "cell_type": "code",
   "execution_count": 415,
   "id": "bf393dbe",
   "metadata": {},
   "outputs": [
    {
     "data": {
      "text/html": [
       "<div>\n",
       "<style scoped>\n",
       "    .dataframe tbody tr th:only-of-type {\n",
       "        vertical-align: middle;\n",
       "    }\n",
       "\n",
       "    .dataframe tbody tr th {\n",
       "        vertical-align: top;\n",
       "    }\n",
       "\n",
       "    .dataframe thead th {\n",
       "        text-align: right;\n",
       "    }\n",
       "</style>\n",
       "<table border=\"1\" class=\"dataframe\">\n",
       "  <thead>\n",
       "    <tr style=\"text-align: right;\">\n",
       "      <th></th>\n",
       "      <th>30 Online shopping gives monetary benefit and discounts</th>\n",
       "      <th>41 Monetary savings</th>\n",
       "      <th>39 Offering a wide variety of listed product in several category</th>\n",
       "    </tr>\n",
       "  </thead>\n",
       "  <tbody>\n",
       "    <tr>\n",
       "      <th>Strongly Agree</th>\n",
       "      <td>39.03</td>\n",
       "      <td>55.02</td>\n",
       "      <td>41.26</td>\n",
       "    </tr>\n",
       "    <tr>\n",
       "      <th>Agree</th>\n",
       "      <td>31.60</td>\n",
       "      <td>27.88</td>\n",
       "      <td>34.94</td>\n",
       "    </tr>\n",
       "    <tr>\n",
       "      <th>Indifferent</th>\n",
       "      <td>18.59</td>\n",
       "      <td>5.58</td>\n",
       "      <td>21.19</td>\n",
       "    </tr>\n",
       "    <tr>\n",
       "      <th>Strongly Disagree</th>\n",
       "      <td>6.69</td>\n",
       "      <td>NaN</td>\n",
       "      <td>NaN</td>\n",
       "    </tr>\n",
       "    <tr>\n",
       "      <th>Disagree</th>\n",
       "      <td>4.09</td>\n",
       "      <td>11.52</td>\n",
       "      <td>2.60</td>\n",
       "    </tr>\n",
       "  </tbody>\n",
       "</table>\n",
       "</div>"
      ],
      "text/plain": [
       "                   30 Online shopping gives monetary benefit and discounts  \\\n",
       "Strongly Agree                                                 39.03         \n",
       "Agree                                                          31.60         \n",
       "Indifferent                                                    18.59         \n",
       "Strongly Disagree                                               6.69         \n",
       "Disagree                                                        4.09         \n",
       "\n",
       "                   41 Monetary savings  \\\n",
       "Strongly Agree                   55.02   \n",
       "Agree                            27.88   \n",
       "Indifferent                       5.58   \n",
       "Strongly Disagree                  NaN   \n",
       "Disagree                         11.52   \n",
       "\n",
       "                   39 Offering a wide variety of listed product in several category  \n",
       "Strongly Agree                                                 41.26                 \n",
       "Agree                                                          34.94                 \n",
       "Indifferent                                                    21.19                 \n",
       "Strongly Disagree                                                NaN                 \n",
       "Disagree                                                        2.60                 "
      ]
     },
     "execution_count": 415,
     "metadata": {},
     "output_type": "execute_result"
    }
   ],
   "source": [
    "x"
   ]
  },
  {
   "cell_type": "markdown",
   "id": "4bd4c1cf",
   "metadata": {},
   "source": [
    "by looking at the above table we can say that people prefer online shopping because it provides monetory discounts and savings and also because they get wide variety of produt when compared to shopping in person"
   ]
  },
  {
   "cell_type": "code",
   "execution_count": 426,
   "id": "70861769",
   "metadata": {},
   "outputs": [],
   "source": [
    "z = data['From the following, tick any (or all) of the online retailers you have shopped from;                                                                           '].value_counts()\n",
    "z = pd.DataFrame(z)"
   ]
  },
  {
   "cell_type": "code",
   "execution_count": 427,
   "id": "a8f7e855",
   "metadata": {},
   "outputs": [],
   "source": [
    "amazon = z[z.index.str.contains('Amazon.in')].sum()\n",
    "flipkart = z[z.index.str.contains('Flipkart.com')].sum()\n",
    "paytm = z[z.index.str.contains('Paytm.com')].sum()\n",
    "myntra = z[z.index.str.contains('Myntra.com')].sum()\n",
    "snapdeal = z[z.index.str.contains('Snapdeal.com')].sum()"
   ]
  },
  {
   "cell_type": "code",
   "execution_count": 448,
   "id": "62241113",
   "metadata": {},
   "outputs": [],
   "source": [
    "a = pd.DataFrame({'Amazon':amazon,'Flipkart':flipkart,'Paytm':paytm,'Myntra':myntra,'Snapdeal':snapdeal})\n",
    "a = a.T\n",
    "a.rename({'From the following, tick any (or all) of the online retailers you have shopped from;                                                                           ':'Shopping'},axis=1,inplace=True)"
   ]
  },
  {
   "cell_type": "code",
   "execution_count": 453,
   "id": "edbd195c",
   "metadata": {},
   "outputs": [
    {
     "data": {
      "text/html": [
       "<div>\n",
       "<style scoped>\n",
       "    .dataframe tbody tr th:only-of-type {\n",
       "        vertical-align: middle;\n",
       "    }\n",
       "\n",
       "    .dataframe tbody tr th {\n",
       "        vertical-align: top;\n",
       "    }\n",
       "\n",
       "    .dataframe thead th {\n",
       "        text-align: right;\n",
       "    }\n",
       "</style>\n",
       "<table border=\"1\" class=\"dataframe\">\n",
       "  <thead>\n",
       "    <tr style=\"text-align: right;\">\n",
       "      <th></th>\n",
       "      <th>Shopping</th>\n",
       "    </tr>\n",
       "  </thead>\n",
       "  <tbody>\n",
       "    <tr>\n",
       "      <th>Amazon</th>\n",
       "      <td>269</td>\n",
       "    </tr>\n",
       "    <tr>\n",
       "      <th>Flipkart</th>\n",
       "      <td>221</td>\n",
       "    </tr>\n",
       "    <tr>\n",
       "      <th>Paytm</th>\n",
       "      <td>150</td>\n",
       "    </tr>\n",
       "    <tr>\n",
       "      <th>Myntra</th>\n",
       "      <td>146</td>\n",
       "    </tr>\n",
       "    <tr>\n",
       "      <th>Snapdeal</th>\n",
       "      <td>182</td>\n",
       "    </tr>\n",
       "  </tbody>\n",
       "</table>\n",
       "</div>"
      ],
      "text/plain": [
       "          Shopping\n",
       "Amazon         269\n",
       "Flipkart       221\n",
       "Paytm          150\n",
       "Myntra         146\n",
       "Snapdeal       182"
      ]
     },
     "execution_count": 453,
     "metadata": {},
     "output_type": "execute_result"
    }
   ],
   "source": [
    "a"
   ]
  },
  {
   "cell_type": "code",
   "execution_count": 452,
   "id": "d4f82a8c",
   "metadata": {},
   "outputs": [
    {
     "data": {
      "text/html": [
       "<div>\n",
       "<style scoped>\n",
       "    .dataframe tbody tr th:only-of-type {\n",
       "        vertical-align: middle;\n",
       "    }\n",
       "\n",
       "    .dataframe tbody tr th {\n",
       "        vertical-align: top;\n",
       "    }\n",
       "\n",
       "    .dataframe thead th {\n",
       "        text-align: right;\n",
       "    }\n",
       "</style>\n",
       "<table border=\"1\" class=\"dataframe\">\n",
       "  <thead>\n",
       "    <tr style=\"text-align: right;\">\n",
       "      <th></th>\n",
       "      <th>Easy to use website or application</th>\n",
       "    </tr>\n",
       "  </thead>\n",
       "  <tbody>\n",
       "    <tr>\n",
       "      <th>Amazon.in, Flipkart.com, Paytm.com, Myntra.com, Snapdeal.com</th>\n",
       "      <td>64</td>\n",
       "    </tr>\n",
       "    <tr>\n",
       "      <th>Amazon.in, Flipkart.com, Myntra.com, Snapdeal.com</th>\n",
       "      <td>44</td>\n",
       "    </tr>\n",
       "    <tr>\n",
       "      <th>Amazon.in, Flipkart.com</th>\n",
       "      <td>44</td>\n",
       "    </tr>\n",
       "    <tr>\n",
       "      <th>Amazon.in</th>\n",
       "      <td>29</td>\n",
       "    </tr>\n",
       "    <tr>\n",
       "      <th>Amazon.in, Flipkart.com, Paytm.com, Snapdeal.com</th>\n",
       "      <td>22</td>\n",
       "    </tr>\n",
       "    <tr>\n",
       "      <th>Amazon.in, Paytm.com, Myntra.com</th>\n",
       "      <td>20</td>\n",
       "    </tr>\n",
       "    <tr>\n",
       "      <th>Amazon.in, Flipkart.com, Myntra.com</th>\n",
       "      <td>19</td>\n",
       "    </tr>\n",
       "    <tr>\n",
       "      <th>Paytm.com</th>\n",
       "      <td>12</td>\n",
       "    </tr>\n",
       "    <tr>\n",
       "      <th>Flipkart.com</th>\n",
       "      <td>8</td>\n",
       "    </tr>\n",
       "    <tr>\n",
       "      <th>Amazon.in, Paytm.com</th>\n",
       "      <td>7</td>\n",
       "    </tr>\n",
       "  </tbody>\n",
       "</table>\n",
       "</div>"
      ],
      "text/plain": [
       "                                                    Easy to use website or application\n",
       "Amazon.in, Flipkart.com, Paytm.com, Myntra.com,...                                  64\n",
       "Amazon.in, Flipkart.com, Myntra.com, Snapdeal.com                                   44\n",
       "Amazon.in, Flipkart.com                                                             44\n",
       "Amazon.in                                                                           29\n",
       "Amazon.in, Flipkart.com, Paytm.com, Snapdeal.com                                    22\n",
       "Amazon.in, Paytm.com, Myntra.com                                                    20\n",
       "Amazon.in, Flipkart.com, Myntra.com                                                 19\n",
       "Paytm.com                                                                           12\n",
       "Flipkart.com                                                                         8\n",
       "Amazon.in, Paytm.com                                                                 7"
      ]
     },
     "execution_count": 452,
     "metadata": {},
     "output_type": "execute_result"
    }
   ],
   "source": [
    "z = data['Easy to use website or application'].value_counts()\n",
    "z = pd.DataFrame(z)\n",
    "z"
   ]
  },
  {
   "cell_type": "code",
   "execution_count": 454,
   "id": "490e5ded",
   "metadata": {},
   "outputs": [],
   "source": [
    "amazon = z[z.index.str.contains('Amazon.in')].sum()\n",
    "flipkart = z[z.index.str.contains('Flipkart.com')].sum()\n",
    "paytm = z[z.index.str.contains('Paytm.com')].sum()\n",
    "myntra = z[z.index.str.contains('Myntra.com')].sum()\n",
    "snapdeal = z[z.index.str.contains('Snapdeal.com')].sum()"
   ]
  },
  {
   "cell_type": "code",
   "execution_count": 457,
   "id": "dcb243ed",
   "metadata": {},
   "outputs": [],
   "source": [
    "a1 = pd.DataFrame({'Amazon':amazon,'Flipkart':flipkart,'Paytm':paytm,'Myntra':myntra,'Snapdeal':snapdeal})\n",
    "a1 = a1.T"
   ]
  },
  {
   "cell_type": "code",
   "execution_count": 459,
   "id": "97f04e7c",
   "metadata": {},
   "outputs": [
    {
     "data": {
      "text/html": [
       "<div>\n",
       "<style scoped>\n",
       "    .dataframe tbody tr th:only-of-type {\n",
       "        vertical-align: middle;\n",
       "    }\n",
       "\n",
       "    .dataframe tbody tr th {\n",
       "        vertical-align: top;\n",
       "    }\n",
       "\n",
       "    .dataframe thead th {\n",
       "        text-align: right;\n",
       "    }\n",
       "</style>\n",
       "<table border=\"1\" class=\"dataframe\">\n",
       "  <thead>\n",
       "    <tr style=\"text-align: right;\">\n",
       "      <th></th>\n",
       "      <th>Shopping</th>\n",
       "      <th>Easy to use app or website</th>\n",
       "    </tr>\n",
       "  </thead>\n",
       "  <tbody>\n",
       "    <tr>\n",
       "      <th>Amazon</th>\n",
       "      <td>269</td>\n",
       "      <td>249</td>\n",
       "    </tr>\n",
       "    <tr>\n",
       "      <th>Flipkart</th>\n",
       "      <td>221</td>\n",
       "      <td>201</td>\n",
       "    </tr>\n",
       "    <tr>\n",
       "      <th>Paytm</th>\n",
       "      <td>150</td>\n",
       "      <td>125</td>\n",
       "    </tr>\n",
       "    <tr>\n",
       "      <th>Myntra</th>\n",
       "      <td>146</td>\n",
       "      <td>147</td>\n",
       "    </tr>\n",
       "    <tr>\n",
       "      <th>Snapdeal</th>\n",
       "      <td>182</td>\n",
       "      <td>130</td>\n",
       "    </tr>\n",
       "  </tbody>\n",
       "</table>\n",
       "</div>"
      ],
      "text/plain": [
       "          Shopping  Easy to use app or website\n",
       "Amazon         269                         249\n",
       "Flipkart       221                         201\n",
       "Paytm          150                         125\n",
       "Myntra         146                         147\n",
       "Snapdeal       182                         130"
      ]
     },
     "execution_count": 459,
     "metadata": {},
     "output_type": "execute_result"
    }
   ],
   "source": [
    "a['Easy to use app or website'] = a1\n",
    "a"
   ]
  },
  {
   "cell_type": "code",
   "execution_count": 460,
   "id": "635ceb33",
   "metadata": {},
   "outputs": [
    {
     "data": {
      "text/html": [
       "<div>\n",
       "<style scoped>\n",
       "    .dataframe tbody tr th:only-of-type {\n",
       "        vertical-align: middle;\n",
       "    }\n",
       "\n",
       "    .dataframe tbody tr th {\n",
       "        vertical-align: top;\n",
       "    }\n",
       "\n",
       "    .dataframe thead th {\n",
       "        text-align: right;\n",
       "    }\n",
       "</style>\n",
       "<table border=\"1\" class=\"dataframe\">\n",
       "  <thead>\n",
       "    <tr style=\"text-align: right;\">\n",
       "      <th></th>\n",
       "      <th>Speedy order delivery</th>\n",
       "    </tr>\n",
       "  </thead>\n",
       "  <tbody>\n",
       "    <tr>\n",
       "      <th>Amazon.in</th>\n",
       "      <td>107</td>\n",
       "    </tr>\n",
       "    <tr>\n",
       "      <th>Amazon.in, Flipkart.com</th>\n",
       "      <td>82</td>\n",
       "    </tr>\n",
       "    <tr>\n",
       "      <th>Amazon.in, Flipkart.com, Snapdeal.com</th>\n",
       "      <td>36</td>\n",
       "    </tr>\n",
       "    <tr>\n",
       "      <th>Amazon.in, Flipkart.com, Myntra.com</th>\n",
       "      <td>15</td>\n",
       "    </tr>\n",
       "    <tr>\n",
       "      <th>Flipkart.com</th>\n",
       "      <td>15</td>\n",
       "    </tr>\n",
       "    <tr>\n",
       "      <th>Flipkart.com, Myntra.com, Snapdeal.com</th>\n",
       "      <td>14</td>\n",
       "    </tr>\n",
       "  </tbody>\n",
       "</table>\n",
       "</div>"
      ],
      "text/plain": [
       "                                        Speedy order delivery \n",
       "Amazon.in                                                  107\n",
       "Amazon.in, Flipkart.com                                     82\n",
       "Amazon.in, Flipkart.com, Snapdeal.com                       36\n",
       "Amazon.in, Flipkart.com, Myntra.com                         15\n",
       "Flipkart.com                                                15\n",
       "Flipkart.com, Myntra.com, Snapdeal.com                      14"
      ]
     },
     "execution_count": 460,
     "metadata": {},
     "output_type": "execute_result"
    }
   ],
   "source": [
    "z = data['Speedy order delivery '].value_counts()\n",
    "z = pd.DataFrame(z)\n",
    "z"
   ]
  },
  {
   "cell_type": "code",
   "execution_count": 461,
   "id": "ef132c9d",
   "metadata": {},
   "outputs": [],
   "source": [
    "amazon = z[z.index.str.contains('Amazon.in')].sum()\n",
    "flipkart = z[z.index.str.contains('Flipkart.com')].sum()\n",
    "paytm = z[z.index.str.contains('Paytm.com')].sum()\n",
    "myntra = z[z.index.str.contains('Myntra.com')].sum()\n",
    "snapdeal = z[z.index.str.contains('Snapdeal.com')].sum()"
   ]
  },
  {
   "cell_type": "code",
   "execution_count": 462,
   "id": "06b1fe9d",
   "metadata": {},
   "outputs": [
    {
     "data": {
      "text/html": [
       "<div>\n",
       "<style scoped>\n",
       "    .dataframe tbody tr th:only-of-type {\n",
       "        vertical-align: middle;\n",
       "    }\n",
       "\n",
       "    .dataframe tbody tr th {\n",
       "        vertical-align: top;\n",
       "    }\n",
       "\n",
       "    .dataframe thead th {\n",
       "        text-align: right;\n",
       "    }\n",
       "</style>\n",
       "<table border=\"1\" class=\"dataframe\">\n",
       "  <thead>\n",
       "    <tr style=\"text-align: right;\">\n",
       "      <th></th>\n",
       "      <th>Shopping</th>\n",
       "      <th>Easy to use app or website</th>\n",
       "      <th>Speed Delivery</th>\n",
       "    </tr>\n",
       "  </thead>\n",
       "  <tbody>\n",
       "    <tr>\n",
       "      <th>Amazon</th>\n",
       "      <td>269</td>\n",
       "      <td>249</td>\n",
       "      <td>240.0</td>\n",
       "    </tr>\n",
       "    <tr>\n",
       "      <th>Flipkart</th>\n",
       "      <td>221</td>\n",
       "      <td>201</td>\n",
       "      <td>162.0</td>\n",
       "    </tr>\n",
       "    <tr>\n",
       "      <th>Paytm</th>\n",
       "      <td>150</td>\n",
       "      <td>125</td>\n",
       "      <td>0.0</td>\n",
       "    </tr>\n",
       "    <tr>\n",
       "      <th>Myntra</th>\n",
       "      <td>146</td>\n",
       "      <td>147</td>\n",
       "      <td>29.0</td>\n",
       "    </tr>\n",
       "    <tr>\n",
       "      <th>Snapdeal</th>\n",
       "      <td>182</td>\n",
       "      <td>130</td>\n",
       "      <td>50.0</td>\n",
       "    </tr>\n",
       "  </tbody>\n",
       "</table>\n",
       "</div>"
      ],
      "text/plain": [
       "          Shopping  Easy to use app or website  Speed Delivery\n",
       "Amazon         269                         249           240.0\n",
       "Flipkart       221                         201           162.0\n",
       "Paytm          150                         125             0.0\n",
       "Myntra         146                         147            29.0\n",
       "Snapdeal       182                         130            50.0"
      ]
     },
     "execution_count": 462,
     "metadata": {},
     "output_type": "execute_result"
    }
   ],
   "source": [
    "a1 = pd.DataFrame({'Amazon':amazon,'Flipkart':flipkart,'Paytm':paytm,'Myntra':myntra,'Snapdeal':snapdeal})\n",
    "a['Speed Delivery'] = a1.T\n",
    "a"
   ]
  },
  {
   "cell_type": "code",
   "execution_count": 463,
   "id": "87ab145c",
   "metadata": {},
   "outputs": [
    {
     "data": {
      "text/html": [
       "<div>\n",
       "<style scoped>\n",
       "    .dataframe tbody tr th:only-of-type {\n",
       "        vertical-align: middle;\n",
       "    }\n",
       "\n",
       "    .dataframe tbody tr th {\n",
       "        vertical-align: top;\n",
       "    }\n",
       "\n",
       "    .dataframe thead th {\n",
       "        text-align: right;\n",
       "    }\n",
       "</style>\n",
       "<table border=\"1\" class=\"dataframe\">\n",
       "  <thead>\n",
       "    <tr style=\"text-align: right;\">\n",
       "      <th></th>\n",
       "      <th>Limited mode of payment on most products (promotion, sales period)</th>\n",
       "    </tr>\n",
       "  </thead>\n",
       "  <tbody>\n",
       "    <tr>\n",
       "      <th>Snapdeal.com</th>\n",
       "      <td>87</td>\n",
       "    </tr>\n",
       "    <tr>\n",
       "      <th>Amazon.in</th>\n",
       "      <td>62</td>\n",
       "    </tr>\n",
       "    <tr>\n",
       "      <th>Flipkart.com</th>\n",
       "      <td>31</td>\n",
       "    </tr>\n",
       "    <tr>\n",
       "      <th>Amazon.in, Flipkart.com</th>\n",
       "      <td>29</td>\n",
       "    </tr>\n",
       "    <tr>\n",
       "      <th>Paytm.com</th>\n",
       "      <td>25</td>\n",
       "    </tr>\n",
       "    <tr>\n",
       "      <th>Paytm.com, Snapdeal.com</th>\n",
       "      <td>15</td>\n",
       "    </tr>\n",
       "    <tr>\n",
       "      <th>Amazon.in, Paytm.com</th>\n",
       "      <td>13</td>\n",
       "    </tr>\n",
       "    <tr>\n",
       "      <th>Myntra.com, Snapdeal.com</th>\n",
       "      <td>7</td>\n",
       "    </tr>\n",
       "  </tbody>\n",
       "</table>\n",
       "</div>"
      ],
      "text/plain": [
       "                          Limited mode of payment on most products (promotion, sales period)\n",
       "Snapdeal.com                                                             87                 \n",
       "Amazon.in                                                                62                 \n",
       "Flipkart.com                                                             31                 \n",
       "Amazon.in, Flipkart.com                                                  29                 \n",
       "Paytm.com                                                                25                 \n",
       "Paytm.com, Snapdeal.com                                                  15                 \n",
       "Amazon.in, Paytm.com                                                     13                 \n",
       "Myntra.com, Snapdeal.com                                                  7                 "
      ]
     },
     "execution_count": 463,
     "metadata": {},
     "output_type": "execute_result"
    }
   ],
   "source": [
    "z = data['Limited mode of payment on most products (promotion, sales period)'].value_counts()\n",
    "z = pd.DataFrame(z)\n",
    "z"
   ]
  },
  {
   "cell_type": "code",
   "execution_count": 464,
   "id": "59e8a68f",
   "metadata": {},
   "outputs": [],
   "source": [
    "amazon = z[z.index.str.contains('Amazon.in')].sum()\n",
    "flipkart = z[z.index.str.contains('Flipkart.com')].sum()\n",
    "paytm = z[z.index.str.contains('Paytm.com')].sum()\n",
    "myntra = z[z.index.str.contains('Myntra.com')].sum()\n",
    "snapdeal = z[z.index.str.contains('Snapdeal.com')].sum()"
   ]
  },
  {
   "cell_type": "code",
   "execution_count": 467,
   "id": "5e69bdc1",
   "metadata": {},
   "outputs": [],
   "source": [
    "a1 = pd.DataFrame({'Amazon':amazon,'Flipkart':flipkart,'Paytm':paytm,'Myntra':myntra,'Snapdeal':snapdeal})\n",
    "a['Mode of Payment'] = a1.T\n",
    "a.drop(columns='Mode of Payment',inplace=True)"
   ]
  },
  {
   "cell_type": "code",
   "execution_count": 468,
   "id": "33d48f5e",
   "metadata": {},
   "outputs": [
    {
     "data": {
      "text/html": [
       "<div>\n",
       "<style scoped>\n",
       "    .dataframe tbody tr th:only-of-type {\n",
       "        vertical-align: middle;\n",
       "    }\n",
       "\n",
       "    .dataframe tbody tr th {\n",
       "        vertical-align: top;\n",
       "    }\n",
       "\n",
       "    .dataframe thead th {\n",
       "        text-align: right;\n",
       "    }\n",
       "</style>\n",
       "<table border=\"1\" class=\"dataframe\">\n",
       "  <thead>\n",
       "    <tr style=\"text-align: right;\">\n",
       "      <th></th>\n",
       "      <th>Shopping</th>\n",
       "      <th>Easy to use app or website</th>\n",
       "      <th>Speed Delivery</th>\n",
       "    </tr>\n",
       "  </thead>\n",
       "  <tbody>\n",
       "    <tr>\n",
       "      <th>Amazon</th>\n",
       "      <td>269</td>\n",
       "      <td>249</td>\n",
       "      <td>240.0</td>\n",
       "    </tr>\n",
       "    <tr>\n",
       "      <th>Flipkart</th>\n",
       "      <td>221</td>\n",
       "      <td>201</td>\n",
       "      <td>162.0</td>\n",
       "    </tr>\n",
       "    <tr>\n",
       "      <th>Paytm</th>\n",
       "      <td>150</td>\n",
       "      <td>125</td>\n",
       "      <td>0.0</td>\n",
       "    </tr>\n",
       "    <tr>\n",
       "      <th>Myntra</th>\n",
       "      <td>146</td>\n",
       "      <td>147</td>\n",
       "      <td>29.0</td>\n",
       "    </tr>\n",
       "    <tr>\n",
       "      <th>Snapdeal</th>\n",
       "      <td>182</td>\n",
       "      <td>130</td>\n",
       "      <td>50.0</td>\n",
       "    </tr>\n",
       "  </tbody>\n",
       "</table>\n",
       "</div>"
      ],
      "text/plain": [
       "          Shopping  Easy to use app or website  Speed Delivery\n",
       "Amazon         269                         249           240.0\n",
       "Flipkart       221                         201           162.0\n",
       "Paytm          150                         125             0.0\n",
       "Myntra         146                         147            29.0\n",
       "Snapdeal       182                         130            50.0"
      ]
     },
     "execution_count": 468,
     "metadata": {},
     "output_type": "execute_result"
    }
   ],
   "source": [
    "a"
   ]
  },
  {
   "cell_type": "code",
   "execution_count": 469,
   "id": "702d0baf",
   "metadata": {},
   "outputs": [
    {
     "data": {
      "text/html": [
       "<div>\n",
       "<style scoped>\n",
       "    .dataframe tbody tr th:only-of-type {\n",
       "        vertical-align: middle;\n",
       "    }\n",
       "\n",
       "    .dataframe tbody tr th {\n",
       "        vertical-align: top;\n",
       "    }\n",
       "\n",
       "    .dataframe thead th {\n",
       "        text-align: right;\n",
       "    }\n",
       "</style>\n",
       "<table border=\"1\" class=\"dataframe\">\n",
       "  <thead>\n",
       "    <tr style=\"text-align: right;\">\n",
       "      <th></th>\n",
       "      <th>Perceived Trustworthiness</th>\n",
       "    </tr>\n",
       "  </thead>\n",
       "  <tbody>\n",
       "    <tr>\n",
       "      <th>Amazon.in</th>\n",
       "      <td>76</td>\n",
       "    </tr>\n",
       "    <tr>\n",
       "      <th>Amazon.in, Flipkart.com, Snapdeal.com</th>\n",
       "      <td>36</td>\n",
       "    </tr>\n",
       "    <tr>\n",
       "      <th>Amazon.in, Myntra.com</th>\n",
       "      <td>35</td>\n",
       "    </tr>\n",
       "    <tr>\n",
       "      <th>Amazon.in, Flipkart.com</th>\n",
       "      <td>31</td>\n",
       "    </tr>\n",
       "    <tr>\n",
       "      <th>Flipkart.com</th>\n",
       "      <td>27</td>\n",
       "    </tr>\n",
       "    <tr>\n",
       "      <th>Amazon.in, Flipkart.com, Myntra.com, Snapdeal.com</th>\n",
       "      <td>25</td>\n",
       "    </tr>\n",
       "    <tr>\n",
       "      <th>Myntra.com</th>\n",
       "      <td>15</td>\n",
       "    </tr>\n",
       "    <tr>\n",
       "      <th>Amazon.in, Flipkart.com, Paytm.com, Myntra.com, Snapdeal.com</th>\n",
       "      <td>13</td>\n",
       "    </tr>\n",
       "    <tr>\n",
       "      <th>Amazon.in, Flipkart.com, Paytm.com</th>\n",
       "      <td>11</td>\n",
       "    </tr>\n",
       "  </tbody>\n",
       "</table>\n",
       "</div>"
      ],
      "text/plain": [
       "                                                    Perceived Trustworthiness\n",
       "Amazon.in                                                                  76\n",
       "Amazon.in, Flipkart.com, Snapdeal.com                                      36\n",
       "Amazon.in, Myntra.com                                                      35\n",
       "Amazon.in, Flipkart.com                                                    31\n",
       "Flipkart.com                                                               27\n",
       "Amazon.in, Flipkart.com, Myntra.com, Snapdeal.com                          25\n",
       "Myntra.com                                                                 15\n",
       "Amazon.in, Flipkart.com, Paytm.com, Myntra.com,...                         13\n",
       "Amazon.in, Flipkart.com, Paytm.com                                         11"
      ]
     },
     "execution_count": 469,
     "metadata": {},
     "output_type": "execute_result"
    }
   ],
   "source": [
    "z = data['Perceived Trustworthiness'].value_counts()\n",
    "z = pd.DataFrame(z)\n",
    "z"
   ]
  },
  {
   "cell_type": "code",
   "execution_count": 470,
   "id": "b765a747",
   "metadata": {},
   "outputs": [],
   "source": [
    "amazon = z[z.index.str.contains('Amazon.in')].sum()\n",
    "flipkart = z[z.index.str.contains('Flipkart.com')].sum()\n",
    "paytm = z[z.index.str.contains('Paytm.com')].sum()\n",
    "myntra = z[z.index.str.contains('Myntra.com')].sum()\n",
    "snapdeal = z[z.index.str.contains('Snapdeal.com')].sum()"
   ]
  },
  {
   "cell_type": "code",
   "execution_count": 475,
   "id": "922bfd74",
   "metadata": {},
   "outputs": [
    {
     "data": {
      "text/html": [
       "<div>\n",
       "<style scoped>\n",
       "    .dataframe tbody tr th:only-of-type {\n",
       "        vertical-align: middle;\n",
       "    }\n",
       "\n",
       "    .dataframe tbody tr th {\n",
       "        vertical-align: top;\n",
       "    }\n",
       "\n",
       "    .dataframe thead th {\n",
       "        text-align: right;\n",
       "    }\n",
       "</style>\n",
       "<table border=\"1\" class=\"dataframe\">\n",
       "  <thead>\n",
       "    <tr style=\"text-align: right;\">\n",
       "      <th></th>\n",
       "      <th>Shopping</th>\n",
       "      <th>Easy to use app or website</th>\n",
       "      <th>Speed Delivery</th>\n",
       "      <th>Trustworthiness</th>\n",
       "    </tr>\n",
       "  </thead>\n",
       "  <tbody>\n",
       "    <tr>\n",
       "      <th>Amazon</th>\n",
       "      <td>269</td>\n",
       "      <td>249</td>\n",
       "      <td>240.0</td>\n",
       "      <td>227</td>\n",
       "    </tr>\n",
       "    <tr>\n",
       "      <th>Flipkart</th>\n",
       "      <td>221</td>\n",
       "      <td>201</td>\n",
       "      <td>162.0</td>\n",
       "      <td>143</td>\n",
       "    </tr>\n",
       "    <tr>\n",
       "      <th>Paytm</th>\n",
       "      <td>150</td>\n",
       "      <td>125</td>\n",
       "      <td>0.0</td>\n",
       "      <td>24</td>\n",
       "    </tr>\n",
       "    <tr>\n",
       "      <th>Myntra</th>\n",
       "      <td>146</td>\n",
       "      <td>147</td>\n",
       "      <td>29.0</td>\n",
       "      <td>88</td>\n",
       "    </tr>\n",
       "    <tr>\n",
       "      <th>Snapdeal</th>\n",
       "      <td>182</td>\n",
       "      <td>130</td>\n",
       "      <td>50.0</td>\n",
       "      <td>74</td>\n",
       "    </tr>\n",
       "  </tbody>\n",
       "</table>\n",
       "</div>"
      ],
      "text/plain": [
       "          Shopping  Easy to use app or website  Speed Delivery  \\\n",
       "Amazon         269                         249           240.0   \n",
       "Flipkart       221                         201           162.0   \n",
       "Paytm          150                         125             0.0   \n",
       "Myntra         146                         147            29.0   \n",
       "Snapdeal       182                         130            50.0   \n",
       "\n",
       "          Trustworthiness  \n",
       "Amazon                227  \n",
       "Flipkart              143  \n",
       "Paytm                  24  \n",
       "Myntra                 88  \n",
       "Snapdeal               74  "
      ]
     },
     "execution_count": 475,
     "metadata": {},
     "output_type": "execute_result"
    }
   ],
   "source": [
    "a1 = pd.DataFrame({'Amazon':amazon,'Flipkart':flipkart,'Paytm':paytm,'Myntra':myntra,'Snapdeal':snapdeal})\n",
    "a['Trustworthiness'] = a1.T\n",
    "a"
   ]
  },
  {
   "cell_type": "code",
   "execution_count": 484,
   "id": "c2196d80",
   "metadata": {},
   "outputs": [],
   "source": [
    "a['shopping_percent'] = round((a['Shopping'] / data.shape[0]*100),2)\n",
    "a['Easy_to_use_percent'] = round((a['Easy to use app or website'] / data.shape[0]*100),2)\n",
    "a['Speed_Delivery_percent'] = round((a['Speed Delivery'] / data.shape[0]*100),2)\n",
    "a['Trustworthiness_percent'] = round((a['Trustworthiness'] / data.shape[0]*100),2)"
   ]
  },
  {
   "cell_type": "code",
   "execution_count": 486,
   "id": "bc7230af",
   "metadata": {},
   "outputs": [
    {
     "data": {
      "text/plain": [
       "Index(['Shopping', 'Easy to use app or website', 'Speed Delivery',\n",
       "       'Trustworthiness', 'shopping_percent', 'Easy_to_use_percent',\n",
       "       'Speed_Delivery_percent', 'Trustworthiness_percent'],\n",
       "      dtype='object')"
      ]
     },
     "execution_count": 486,
     "metadata": {},
     "output_type": "execute_result"
    }
   ],
   "source": [
    "a.columns"
   ]
  },
  {
   "cell_type": "code",
   "execution_count": 491,
   "id": "e47db3fb",
   "metadata": {},
   "outputs": [
    {
     "data": {
      "text/html": [
       "<div>\n",
       "<style scoped>\n",
       "    .dataframe tbody tr th:only-of-type {\n",
       "        vertical-align: middle;\n",
       "    }\n",
       "\n",
       "    .dataframe tbody tr th {\n",
       "        vertical-align: top;\n",
       "    }\n",
       "\n",
       "    .dataframe thead th {\n",
       "        text-align: right;\n",
       "    }\n",
       "</style>\n",
       "<table border=\"1\" class=\"dataframe\">\n",
       "  <thead>\n",
       "    <tr style=\"text-align: right;\">\n",
       "      <th></th>\n",
       "      <th>Shopping</th>\n",
       "      <th>shopping_percent</th>\n",
       "      <th>Easy to use app or website</th>\n",
       "      <th>Easy_to_use_percent</th>\n",
       "      <th>Speed Delivery</th>\n",
       "      <th>Speed_Delivery_percent</th>\n",
       "      <th>Trustworthiness</th>\n",
       "      <th>Trustworthiness_percent</th>\n",
       "    </tr>\n",
       "  </thead>\n",
       "  <tbody>\n",
       "    <tr>\n",
       "      <th>Amazon</th>\n",
       "      <td>269</td>\n",
       "      <td>100.00</td>\n",
       "      <td>249</td>\n",
       "      <td>92.57</td>\n",
       "      <td>240.0</td>\n",
       "      <td>89.22</td>\n",
       "      <td>227</td>\n",
       "      <td>84.39</td>\n",
       "    </tr>\n",
       "    <tr>\n",
       "      <th>Flipkart</th>\n",
       "      <td>221</td>\n",
       "      <td>82.16</td>\n",
       "      <td>201</td>\n",
       "      <td>74.72</td>\n",
       "      <td>162.0</td>\n",
       "      <td>60.22</td>\n",
       "      <td>143</td>\n",
       "      <td>53.16</td>\n",
       "    </tr>\n",
       "    <tr>\n",
       "      <th>Paytm</th>\n",
       "      <td>150</td>\n",
       "      <td>55.76</td>\n",
       "      <td>125</td>\n",
       "      <td>46.47</td>\n",
       "      <td>0.0</td>\n",
       "      <td>0.00</td>\n",
       "      <td>24</td>\n",
       "      <td>8.92</td>\n",
       "    </tr>\n",
       "    <tr>\n",
       "      <th>Myntra</th>\n",
       "      <td>146</td>\n",
       "      <td>54.28</td>\n",
       "      <td>147</td>\n",
       "      <td>54.65</td>\n",
       "      <td>29.0</td>\n",
       "      <td>10.78</td>\n",
       "      <td>88</td>\n",
       "      <td>32.71</td>\n",
       "    </tr>\n",
       "    <tr>\n",
       "      <th>Snapdeal</th>\n",
       "      <td>182</td>\n",
       "      <td>67.66</td>\n",
       "      <td>130</td>\n",
       "      <td>48.33</td>\n",
       "      <td>50.0</td>\n",
       "      <td>18.59</td>\n",
       "      <td>74</td>\n",
       "      <td>27.51</td>\n",
       "    </tr>\n",
       "  </tbody>\n",
       "</table>\n",
       "</div>"
      ],
      "text/plain": [
       "          Shopping  shopping_percent  Easy to use app or website  \\\n",
       "Amazon         269            100.00                         249   \n",
       "Flipkart       221             82.16                         201   \n",
       "Paytm          150             55.76                         125   \n",
       "Myntra         146             54.28                         147   \n",
       "Snapdeal       182             67.66                         130   \n",
       "\n",
       "          Easy_to_use_percent  Speed Delivery  Speed_Delivery_percent  \\\n",
       "Amazon                  92.57           240.0                   89.22   \n",
       "Flipkart                74.72           162.0                   60.22   \n",
       "Paytm                   46.47             0.0                    0.00   \n",
       "Myntra                  54.65            29.0                   10.78   \n",
       "Snapdeal                48.33            50.0                   18.59   \n",
       "\n",
       "          Trustworthiness  Trustworthiness_percent  \n",
       "Amazon                227                    84.39  \n",
       "Flipkart              143                    53.16  \n",
       "Paytm                  24                     8.92  \n",
       "Myntra                 88                    32.71  \n",
       "Snapdeal               74                    27.51  "
      ]
     },
     "execution_count": 491,
     "metadata": {},
     "output_type": "execute_result"
    }
   ],
   "source": [
    "col = ['Shopping','shopping_percent','Easy to use app or website', 'Easy_to_use_percent', 'Speed Delivery',\n",
    "       'Speed_Delivery_percent',\n",
    "       'Trustworthiness', 'Trustworthiness_percent']\n",
    "a = a.reindex(columns=col)\n",
    "a"
   ]
  },
  {
   "cell_type": "code",
   "execution_count": 516,
   "id": "286506ef",
   "metadata": {},
   "outputs": [
    {
     "data": {
      "image/png": "[encoded data removed]",
      "text/plain": [
       "<Figure size 1440x1440 with 8 Axes>"
      ]
     },
     "metadata": {
      "needs_background": "light"
     },
     "output_type": "display_data"
    }
   ],
   "source": [
    "a.plot(kind='area',figsize=(20,20),subplots=True,layout=(4,2),sharex=False)\n",
    "plt.show()"
   ]
  },
  {
   "cell_type": "markdown",
   "id": "f354ab9c",
   "metadata": {},
   "source": [
    "from the list of following features :\n",
    "    speed, delivery, shopping and trustworthiness\n",
    "we can see that amaon is the most preferred shopping app or website because 100% of the respindant have used amazon for their shopping needs\n",
    "flipkart is the second preferred choice after amazon\n",
    "\n",
    "more than 80% of the respondant believes that amazon have easy to use interface, provide fast delivery and have trustworthiness element\n",
    "\n",
    "however, for flipkart the average rating is 70% for the above same parameters\n",
    "\n",
    "least preferred brand of all is paytm, and in terms of delivery speed all the 269 believes that paytm have issues with the delivery speed\n"
   ]
  },
  {
   "cell_type": "code",
   "execution_count": null,
   "id": "efec023e",
   "metadata": {},
   "outputs": [],
   "source": []
  },
  {
   "cell_type": "code",
   "execution_count": null,
   "id": "c523ac7a",
   "metadata": {},
   "outputs": [],
   "source": []
  }
 ],
 "metadata": {
  "kernelspec": {
   "display_name": "Python 3 (ipykernel)",
   "language": "python",
   "name": "python3"
  },
  "language_info": {
   "codemirror_mode": {
    "name": "ipython",
    "version": 3
   },
   "file_extension": ".py",
   "mimetype": "text/x-python",
   "name": "python",
   "nbconvert_exporter": "python",
   "pygments_lexer": "ipython3",
   "version": "3.9.7"
  }
 },
 "nbformat": 4,
 "nbformat_minor": 5
}
