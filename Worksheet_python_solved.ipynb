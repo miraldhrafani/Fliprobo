{
 "cells": [
  {
   "cell_type": "markdown",
   "id": "24d097f6",
   "metadata": {},
   "source": [
    "### Q1)"
   ]
  },
  {
   "cell_type": "code",
   "execution_count": 5,
   "id": "e56702f2",
   "metadata": {},
   "outputs": [
    {
     "data": {
      "text/plain": [
       "0"
      ]
     },
     "execution_count": 5,
     "metadata": {},
     "output_type": "execute_result"
    }
   ],
   "source": [
    "16 % 2"
   ]
  },
  {
   "cell_type": "markdown",
   "id": "d0795f8f",
   "metadata": {},
   "source": [
    "### Q2)"
   ]
  },
  {
   "cell_type": "code",
   "execution_count": 4,
   "id": "d4688658",
   "metadata": {},
   "outputs": [
    {
     "data": {
      "text/plain": [
       "0"
      ]
     },
     "execution_count": 4,
     "metadata": {},
     "output_type": "execute_result"
    }
   ],
   "source": [
    "2//3"
   ]
  },
  {
   "cell_type": "markdown",
   "id": "c0cb502c",
   "metadata": {},
   "source": [
    "### Q3)"
   ]
  },
  {
   "cell_type": "code",
   "execution_count": 6,
   "id": "cd1e3732",
   "metadata": {},
   "outputs": [
    {
     "data": {
      "text/plain": [
       "24"
      ]
     },
     "execution_count": 6,
     "metadata": {},
     "output_type": "execute_result"
    }
   ],
   "source": [
    "6<<2"
   ]
  },
  {
   "cell_type": "markdown",
   "id": "62dc959d",
   "metadata": {},
   "source": [
    "### Q4)"
   ]
  },
  {
   "cell_type": "code",
   "execution_count": 7,
   "id": "af28625c",
   "metadata": {},
   "outputs": [
    {
     "data": {
      "text/plain": [
       "2"
      ]
     },
     "execution_count": 7,
     "metadata": {},
     "output_type": "execute_result"
    }
   ],
   "source": [
    "6&2"
   ]
  },
  {
   "cell_type": "markdown",
   "id": "6f3be0f4",
   "metadata": {},
   "source": [
    "### Q5)"
   ]
  },
  {
   "cell_type": "code",
   "execution_count": 8,
   "id": "32e58f32",
   "metadata": {},
   "outputs": [
    {
     "data": {
      "text/plain": [
       "6"
      ]
     },
     "execution_count": 8,
     "metadata": {},
     "output_type": "execute_result"
    }
   ],
   "source": [
    "6|2"
   ]
  },
  {
   "cell_type": "markdown",
   "id": "d759e810",
   "metadata": {},
   "source": [
    "### Q11)"
   ]
  },
  {
   "cell_type": "code",
   "execution_count": 80,
   "id": "55841976",
   "metadata": {},
   "outputs": [
    {
     "data": {
      "text/plain": [
       "6"
      ]
     },
     "execution_count": 80,
     "metadata": {},
     "output_type": "execute_result"
    }
   ],
   "source": [
    "import math\n",
    "math.factorial(3)"
   ]
  },
  {
   "cell_type": "code",
   "execution_count": 81,
   "id": "777bd749",
   "metadata": {},
   "outputs": [],
   "source": [
    "def factorial(n):\n",
    "    x = 1\n",
    "    for num in range(2, n + 1):\n",
    "        x = x * num\n",
    "    return x"
   ]
  },
  {
   "cell_type": "code",
   "execution_count": 83,
   "id": "120df5a8",
   "metadata": {},
   "outputs": [
    {
     "data": {
      "text/plain": [
       "5040"
      ]
     },
     "execution_count": 83,
     "metadata": {},
     "output_type": "execute_result"
    }
   ],
   "source": [
    "factorial(7)"
   ]
  },
  {
   "cell_type": "markdown",
   "id": "af0fc755",
   "metadata": {},
   "source": [
    "### Q12)"
   ]
  },
  {
   "cell_type": "code",
   "execution_count": 307,
   "id": "716804cc",
   "metadata": {},
   "outputs": [],
   "source": [
    "## Q12)\n",
    "def prime(n):\n",
    "    for num in range(2,n):\n",
    "        if n % num == 0:\n",
    "            print('composite')\n",
    "            print(int(n/num),'*',num,'=',n)\n",
    "            break\n",
    "    else:\n",
    "        print('Prime')"
   ]
  },
  {
   "cell_type": "code",
   "execution_count": 309,
   "id": "bec11c2b",
   "metadata": {},
   "outputs": [
    {
     "name": "stdout",
     "output_type": "stream",
     "text": [
      "Prime\n"
     ]
    }
   ],
   "source": [
    "prime(5)"
   ]
  },
  {
   "cell_type": "markdown",
   "id": "98a51fab",
   "metadata": {},
   "source": [
    "### Q13)"
   ]
  },
  {
   "cell_type": "code",
   "execution_count": 333,
   "id": "d94aa071",
   "metadata": {},
   "outputs": [],
   "source": [
    "def pali(n):\n",
    "    x = []\n",
    "    if type(n) == str:\n",
    "        for i in n:\n",
    "            x.append(i)\n",
    "        if x == x[::-1]:\n",
    "            print('given string is a Palidrome')\n",
    "        else:\n",
    "            print('given string is not a palidrome')\n",
    "            \n",
    "    else:\n",
    "        print('please enter string values')"
   ]
  },
  {
   "cell_type": "code",
   "execution_count": 334,
   "id": "d01ee353",
   "metadata": {},
   "outputs": [
    {
     "name": "stdout",
     "output_type": "stream",
     "text": [
      "given string is a Palidrome\n"
     ]
    }
   ],
   "source": [
    "pali('1234321')"
   ]
  },
  {
   "cell_type": "markdown",
   "id": "09217baf",
   "metadata": {},
   "source": [
    "### Q14)"
   ]
  },
  {
   "cell_type": "code",
   "execution_count": 335,
   "id": "892ef01b",
   "metadata": {},
   "outputs": [],
   "source": [
    "def side(n):\n",
    "    if 180 - (90 + n) > 0:\n",
    "        print('the other side of the traingle is ---', (180 - (90 + n)))\n",
    "    else:\n",
    "        print('the sum of all the angle of a triangle cannot exceeds 180')"
   ]
  },
  {
   "cell_type": "code",
   "execution_count": 336,
   "id": "09d87641",
   "metadata": {},
   "outputs": [
    {
     "name": "stdout",
     "output_type": "stream",
     "text": [
      "the other side of the traingle is --- 65\n"
     ]
    }
   ],
   "source": [
    "side(25)"
   ]
  },
  {
   "cell_type": "code",
   "execution_count": 337,
   "id": "2e0b3058",
   "metadata": {},
   "outputs": [],
   "source": [
    "import numpy as np\n",
    "def sides(x,y):\n",
    "    z = x**2 + y**2\n",
    "    z = np.sqrt(z)\n",
    "    print('the third side of the triangle is ---',z)"
   ]
  },
  {
   "cell_type": "code",
   "execution_count": 338,
   "id": "31b71ba7",
   "metadata": {},
   "outputs": [
    {
     "name": "stdout",
     "output_type": "stream",
     "text": [
      "the third side of the triangle is --- 7.810249675906654\n"
     ]
    }
   ],
   "source": [
    "sides(5,6)"
   ]
  },
  {
   "cell_type": "markdown",
   "id": "987a2422",
   "metadata": {},
   "source": [
    "### Q15)"
   ]
  },
  {
   "cell_type": "code",
   "execution_count": 1,
   "id": "2eed3808",
   "metadata": {},
   "outputs": [],
   "source": [
    "import pandas as pd\n",
    "def freq(n):\n",
    "    x =[]\n",
    "    if type(n) == str:\n",
    "        for i in n:\n",
    "            x.append(i)\n",
    "        y = pd.DataFrame(x)\n",
    "        print(y.value_counts())\n",
    "    else:\n",
    "        print('Please enter string values')"
   ]
  },
  {
   "cell_type": "code",
   "execution_count": 9,
   "id": "2084bd25",
   "metadata": {},
   "outputs": [
    {
     "name": "stdout",
     "output_type": "stream",
     "text": [
      "l    2\n",
      "H    1\n",
      "e    1\n",
      "o    1\n",
      "dtype: int64\n"
     ]
    }
   ],
   "source": [
    "freq('Hello')"
   ]
  },
  {
   "cell_type": "code",
   "execution_count": 351,
   "id": "020ba0e2",
   "metadata": {},
   "outputs": [],
   "source": []
  },
  {
   "cell_type": "code",
   "execution_count": null,
   "id": "c3b6c243",
   "metadata": {},
   "outputs": [],
   "source": []
  },
  {
   "cell_type": "code",
   "execution_count": null,
   "id": "53936b45",
   "metadata": {},
   "outputs": [],
   "source": []
  }
 ],
 "metadata": {
  "kernelspec": {
   "display_name": "Python 3 (ipykernel)",
   "language": "python",
   "name": "python3"
  },
  "language_info": {
   "codemirror_mode": {
    "name": "ipython",
    "version": 3
   },
   "file_extension": ".py",
   "mimetype": "text/x-python",
   "name": "python",
   "nbconvert_exporter": "python",
   "pygments_lexer": "ipython3",
   "version": "3.9.7"
  }
 },
 "nbformat": 4,
 "nbformat_minor": 5
}
